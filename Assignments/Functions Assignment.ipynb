{
 "cells": [
  {
   "cell_type": "markdown",
   "id": "6678d8c4-6e34-42ed-997e-be3feb4888a2",
   "metadata": {},
   "source": [
    "Q1. Which keyword is used to create a function? Create a function to return a list of odd numbers in the\n",
    "range of 1 to 25.\n",
    "\n",
    "Ans:- The keyword used to create a function in Python is \"def\". Here's an example function that returns a list of odd numbers in the range of 1 to 25:"
   ]
  },
  {
   "cell_type": "code",
   "execution_count": 4,
   "id": "3b76461b-1e51-4785-9fae-eff862322c84",
   "metadata": {},
   "outputs": [
    {
     "data": {
      "text/plain": [
       "[1, 3, 5, 7, 9, 11, 13, 15, 17, 19, 21, 23, 25]"
      ]
     },
     "execution_count": 4,
     "metadata": {},
     "output_type": "execute_result"
    }
   ],
   "source": [
    "def get_odd_numbers():\n",
    "    odd_numbers = [i for i in range(1, 26) if i % 2 != 0]\n",
    "    return odd_numbers\n",
    "get_odd_numbers()"
   ]
  },
  {
   "cell_type": "markdown",
   "id": "7aea2efe-1346-417b-acb9-3cfbb9b4bc7b",
   "metadata": {},
   "source": [
    "Q2. Why *args and **kwargs is used in some functions? Create a function each for *args and **kwargs to\n",
    "demonstrate their use.\n",
    "Ans :- The *args and **kwargs syntax in Python is used to pass a variable number of arguments to a function.\n",
    "\n",
    "*args allows a function to accept any number of non-keyword arguments, and **kwargs allows a function to accept any number of keyword arguments. The * and ** syntax indicate that the function should accept a variable number of arguments."
   ]
  },
  {
   "cell_type": "code",
   "execution_count": 9,
   "id": "60475e9e-c53c-4a0a-9189-619c8696dc23",
   "metadata": {},
   "outputs": [
    {
     "name": "stdout",
     "output_type": "stream",
     "text": [
      "a = 1\n",
      "b = 2\n",
      "c = 3\n"
     ]
    }
   ],
   "source": [
    "def print_keyword_arguments(**kwargs):\n",
    "    for key, value in kwargs.items():\n",
    "        print(f\"{key} = {value}\")\n",
    "print_keyword_arguments(a=1, b=2, c=3)"
   ]
  },
  {
   "cell_type": "markdown",
   "id": "df37338d-fa2a-4168-9d2e-04e3736a7490",
   "metadata": {},
   "source": [
    "Q3. What is an iterator in python? Name the method used to initialise the iterator object and the method\n",
    "used for iteration. Use these methods to print the first five elements of the given list [2, 4, 6, 8, 10, 12, 14, 16,\n",
    "18, 20].\n",
    "\n",
    "Ans :-\n",
    "An iterator in Python is an object that implements the iter and next methods. The iter method returns the iterator object and the next method returns the next item in the iteration.\n",
    "\n",
    "In Python, you can create an iterator from any iterable object, such as a list, by using the iter method. The next method is used to retrieve the next item in the iteration.\n",
    "\n",
    "Here's an example that demonstrates the use of these methods to print the first five elements of the list [2, 4, 6, 8, 10, 12, 14, 16, 18, 20]:"
   ]
  },
  {
   "cell_type": "code",
   "execution_count": 10,
   "id": "b303cc0e-71af-4a02-b539-d0c0a38a5875",
   "metadata": {},
   "outputs": [
    {
     "name": "stdout",
     "output_type": "stream",
     "text": [
      "2\n",
      "4\n",
      "6\n",
      "8\n",
      "10\n"
     ]
    }
   ],
   "source": [
    "numbers = [2, 4, 6, 8, 10, 12, 14, 16, 18, 20]\n",
    "numbers_iterator = iter(numbers)\n",
    "\n",
    "for i in range(5):\n",
    "    print(next(numbers_iterator))\n"
   ]
  },
  {
   "cell_type": "markdown",
   "id": "330cd021-7ec1-4f0d-a9f9-e5f77836d96d",
   "metadata": {},
   "source": [
    "Q4. What is a generator function in python? Why yield keyword is used? Give an example of a generator\n",
    "function\n",
    "\n",
    "Ans :-\n",
    "A generator function is a special type of function in Python that returns a generator iterator, which can be used to traverse a series of values, produced on the fly. Unlike a regular function that returns a single value using the return keyword, a generator function uses the yield keyword, which generates a value and suspends the function's execution, remembering the location from which it left off the next time it is called.\n",
    "\n",
    "The yield keyword is used in a generator function to produce a series of values lazily, without constructing a list to store all the values in memory. This allows for efficient processing of large data sets, as values are generated one at a time as needed."
   ]
  },
  {
   "cell_type": "code",
   "execution_count": 11,
   "id": "ba0e21d3-e77b-47c7-a06f-a5deefbb7812",
   "metadata": {},
   "outputs": [
    {
     "name": "stdout",
     "output_type": "stream",
     "text": [
      "0\n",
      "1\n",
      "1\n",
      "2\n",
      "3\n",
      "5\n",
      "8\n",
      "13\n",
      "21\n",
      "34\n"
     ]
    }
   ],
   "source": [
    "def fibonacci_series(n):\n",
    "    a, b = 0, 1\n",
    "    for i in range(n):\n",
    "        yield a\n",
    "        a, b = b, a + b\n",
    "\n",
    "for num in fibonacci_series(10):\n",
    "    print(num)\n"
   ]
  },
  {
   "cell_type": "markdown",
   "id": "f76a2cb3-ec3f-4c79-a753-a2e54f25163f",
   "metadata": {},
   "source": [
    "Q5. Create a generator function for prime numbers less than 1000. Use the next() method to print the\n",
    "first 20 prime numbers."
   ]
  },
  {
   "cell_type": "code",
   "execution_count": 12,
   "id": "7bbf2173-3878-4572-a4d2-4addd5cade50",
   "metadata": {},
   "outputs": [
    {
     "name": "stdout",
     "output_type": "stream",
     "text": [
      "2\n",
      "3\n",
      "5\n",
      "7\n",
      "11\n",
      "13\n",
      "17\n",
      "19\n",
      "23\n",
      "29\n",
      "31\n",
      "37\n",
      "41\n",
      "43\n",
      "47\n",
      "53\n",
      "59\n",
      "61\n",
      "67\n",
      "71\n"
     ]
    }
   ],
   "source": [
    "def prime_numbers_gen():\n",
    "    yield 2\n",
    "    primes = [2]\n",
    "    num = 3\n",
    "    while num < 1000:\n",
    "        is_prime = True\n",
    "        for prime in primes:\n",
    "            if prime > num**0.5:\n",
    "                break\n",
    "            if num % prime == 0:\n",
    "                is_prime = False\n",
    "                break\n",
    "        if is_prime:\n",
    "            primes.append(num)\n",
    "            yield num\n",
    "        num += 2\n",
    "\n",
    "prime_gen = prime_numbers_gen()\n",
    "for i in range(20):\n",
    "    print(next(prime_gen))\n"
   ]
  },
  {
   "cell_type": "code",
   "execution_count": null,
   "id": "d53382b0-6c97-409d-bad6-54fa46458fab",
   "metadata": {},
   "outputs": [],
   "source": []
  }
 ],
 "metadata": {
  "kernelspec": {
   "display_name": "Python 3",
   "language": "python",
   "name": "python3"
  },
  "language_info": {
   "codemirror_mode": {
    "name": "ipython",
    "version": 3
   },
   "file_extension": ".py",
   "mimetype": "text/x-python",
   "name": "python",
   "nbconvert_exporter": "python",
   "pygments_lexer": "ipython3",
   "version": "3.11.1"
  }
 },
 "nbformat": 4,
 "nbformat_minor": 5
}
