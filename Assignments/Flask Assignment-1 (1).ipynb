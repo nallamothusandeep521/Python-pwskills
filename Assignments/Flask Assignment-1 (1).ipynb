{
 "cells": [
  {
   "cell_type": "markdown",
   "id": "2170b34c-b079-46eb-90fe-bbad3b6ff264",
   "metadata": {},
   "source": [
    "Q1. What is Flask Framework? What are the advantages of Flask Framework?"
   ]
  },
  {
   "cell_type": "markdown",
   "id": "70d63e2c-711a-4bed-9c80-ca4d5f9ea209",
   "metadata": {},
   "source": [
    "Flask is a micro web framework for Python, which means it is a small and lightweight framework designed to build web applications quickly and with minimal code. Flask is based on the Werkzeug WSGI toolkit and the Jinja2 template engine, which are also written in Python.\n",
    "\n",
    "Advantages of Flask Framework:\n",
    "\n",
    "1. Lightweight: Flask is a micro framework, meaning that it has a small footprint and requires minimal setup. It is easy to learn and simple to use, making it a popular choice for small projects and prototypes.\n",
    "\n",
    "2. Flexibility: Flask is a very flexible framework that allows developers to use different libraries and tools to build their web applications. It can be easily integrated with other tools such as SQLALchemy, WTForms, and others.\n",
    "\n",
    "3. Easy to use: Flask is easy to use and has a minimalistic approach to web application development. It provides a simple API that allows developers to create web applications quickly and easily.\n",
    "\n",
    "4. Scalable: Flask is scalable and can handle large-scale applications. It can be used to build complex applications that require high-performance computing, data processing, and storage.\n",
    "\n",
    "5. Great documentation: Flask has excellent documentation and an active community of developers who contribute to the framework. This makes it easy for developers to find answers to their questions and learn how to use Flask effectively.\n",
    "\n",
    "6. Open-source: Flask is open-source software, which means that it is free to use and can be modified and distributed by anyone. This makes it a popular choice for developers who want to build web applications without having to pay for expensive software licenses."
   ]
  },
  {
   "cell_type": "markdown",
   "id": "a5f7eadc-401f-4609-934a-a70bf2bf0433",
   "metadata": {},
   "source": [
    "--------"
   ]
  },
  {
   "cell_type": "markdown",
   "id": "463b2a15-39a2-45f4-96c9-677b07856b62",
   "metadata": {},
   "source": [
    "Q2. Create a simple Flask application to display ‘Hello World!!’. Attach the screenshot of the output in\n",
    "Jupyter Notebook."
   ]
  },
  {
   "cell_type": "code",
   "execution_count": 1,
   "id": "79bf6cb5-39e4-4d20-a056-0bf9ffffa900",
   "metadata": {},
   "outputs": [
    {
     "name": "stdout",
     "output_type": "stream",
     "text": [
      "Requirement already satisfied: Flask in c:\\users\\nallamothu sandeep\\appdata\\local\\programs\\python\\python311\\lib\\site-packages (2.2.3)\n",
      "Requirement already satisfied: Werkzeug>=2.2.2 in c:\\users\\nallamothu sandeep\\appdata\\local\\programs\\python\\python311\\lib\\site-packages (from Flask) (2.2.3)\n",
      "Requirement already satisfied: Jinja2>=3.0 in c:\\users\\nallamothu sandeep\\appdata\\local\\programs\\python\\python311\\lib\\site-packages (from Flask) (3.1.2)\n",
      "Requirement already satisfied: itsdangerous>=2.0 in c:\\users\\nallamothu sandeep\\appdata\\local\\programs\\python\\python311\\lib\\site-packages (from Flask) (2.1.2)\n",
      "Requirement already satisfied: click>=8.0 in c:\\users\\nallamothu sandeep\\appdata\\local\\programs\\python\\python311\\lib\\site-packages (from Flask) (8.1.3)\n",
      "Requirement already satisfied: colorama in c:\\users\\nallamothu sandeep\\appdata\\local\\programs\\python\\python311\\lib\\site-packages (from click>=8.0->Flask) (0.4.6)\n",
      "Requirement already satisfied: MarkupSafe>=2.0 in c:\\users\\nallamothu sandeep\\appdata\\local\\programs\\python\\python311\\lib\\site-packages (from Jinja2>=3.0->Flask) (2.1.2)\n",
      "Note: you may need to restart the kernel to use updated packages.\n"
     ]
    },
    {
     "name": "stderr",
     "output_type": "stream",
     "text": [
      "\n",
      "[notice] A new release of pip is available: 23.0 -> 23.0.1\n",
      "[notice] To update, run: python.exe -m pip install --upgrade pip\n"
     ]
    }
   ],
   "source": [
    "pip install Flask"
   ]
  },
  {
   "cell_type": "code",
   "execution_count": null,
   "id": "41726011-7f89-4cae-a982-12dc507e1fc6",
   "metadata": {},
   "outputs": [
    {
     "name": "stdout",
     "output_type": "stream",
     "text": [
      " * Serving Flask app '__main__'\n",
      " * Debug mode: off\n"
     ]
    },
    {
     "name": "stderr",
     "output_type": "stream",
     "text": [
      "WARNING: This is a development server. Do not use it in a production deployment. Use a production WSGI server instead.\n",
      " * Running on http://127.0.0.1:5000\n",
      "Press CTRL+C to quit\n",
      "127.0.0.1 - - [07/Mar/2023 16:29:20] \"GET / HTTP/1.1\" 200 -\n",
      "127.0.0.1 - - [07/Mar/2023 16:29:21] \"GET /favicon.ico HTTP/1.1\" 404 -\n"
     ]
    }
   ],
   "source": [
    "from flask import Flask\n",
    "\n",
    "app = Flask(__name__)\n",
    "\n",
    "@app.route('/')\n",
    "def hello():\n",
    "    return 'Hello World!!'\n",
    "\n",
    "if __name__ == '__main__':\n",
    "    app.run()"
   ]
  },
  {
   "attachments": {
    "03308948-607c-47da-93a1-b9dcab5fa8f8.png": {
     "image/png": "[encoded data removed]"
    }
   },
   "cell_type": "markdown",
   "id": "dc14f679-1e67-43aa-b7f2-d4ecbd935976",
   "metadata": {},
   "source": [
    "![flask.png](attachment:03308948-607c-47da-93a1-b9dcab5fa8f8.png)"
   ]
  },
  {
   "cell_type": "markdown",
   "id": "23c60a44-660b-4cd7-b567-22190832f7a1",
   "metadata": {},
   "source": [
    "-------------------"
   ]
  },
  {
   "cell_type": "markdown",
   "id": "7390a6e8-95a3-4649-b384-127d423bb261",
   "metadata": {},
   "source": [
    "Q3. What is App routing in Flask? Why do we use app routes?"
   ]
  },
  {
   "cell_type": "markdown",
   "id": "ee910b33-3ad5-4700-bf08-88a02df9d894",
   "metadata": {},
   "source": [
    "Ans:- In Flask, app routing is a mechanism used to map the URLs to their corresponding views, which are Python functions that generate HTTP responses. The Flask application uses the @app.route() decorator to define the URLs that the application will respond to.\n",
    "\n",
    "When a user requests a URL from a Flask application, Flask checks the routes that have been defined in the application. If there is a matching route, Flask will call the corresponding view function and return the response to the user.\n",
    "\n",
    "Here is an example of defining a simple app route in Flask:"
   ]
  },
  {
   "cell_type": "code",
   "execution_count": null,
   "id": "2df70f80-4286-4fa0-bb1a-b8d1604f2266",
   "metadata": {},
   "outputs": [],
   "source": [
    "from flask import Flask\n",
    "\n",
    "app = Flask(__name__)\n",
    "\n",
    "@app.route('/')\n",
    "def hello():\n",
    "    return 'Hello, World!'\n",
    "\n",
    "@app.route('/user/<username>')\n",
    "def show_user_profile(username):\n",
    "    return 'User %s' % username\n"
   ]
  },
  {
   "cell_type": "markdown",
   "id": "fd78f346-7be4-49c6-b758-e0a816ed0af7",
   "metadata": {},
   "source": [
    "n the above example, the @app.route('/') decorator tells Flask that the hello() function should be called when the user requests the root URL (/) of the application.\n",
    "\n",
    "App routing is useful in Flask because it allows you to map URLs to specific functions in your application, making it easier to organize and manage your code. It also allows you to create dynamic URLs with parameters that can be passed to your views."
   ]
  },
  {
   "cell_type": "markdown",
   "id": "a4d4ca94-6a90-4c29-90a2-942514f379c6",
   "metadata": {},
   "source": [
    "-----------------------"
   ]
  },
  {
   "cell_type": "markdown",
   "id": "ed0405a9-57fc-4510-af7b-8e40dc25180b",
   "metadata": {},
   "source": [
    "Q4. Create a “/welcome” route to display the welcome message “Welcome to ABC Corporation” and a “/”\n",
    "route to show the following details:\n",
    "Company Name: ABC Corporation\n",
    "Location: India\n",
    "Contact Detail: 999-999-9999"
   ]
  },
  {
   "cell_type": "markdown",
   "id": "e8744014-7d54-4dd4-bf88-70d8078ae96d",
   "metadata": {},
   "source": [
    "Ans:-In this code, we import the Flask module and create a new Flask application instance. We then define two routes using the @app.route decorator. The first route is for the /welcome endpoint, and it returns the welcome message \"Welcome to ABC Corporation\" when accessed. The second route is for the / endpoint, and it returns the company details when accessed.\n",
    "\n",
    "To run this Flask app, save the code to a file named app.py and run it from the command line with flask run. This will start the web server, and you can then access the /welcome and / routes in your web browser or with a tool like curl."
   ]
  },
  {
   "cell_type": "code",
   "execution_count": null,
   "id": "130e0c6c-47f7-4926-9902-59588b32c767",
   "metadata": {},
   "outputs": [],
   "source": [
    "from flask import Flask\n",
    "\n",
    "app = Flask(__name__)\n",
    "\n",
    "# Define the /welcome route\n",
    "@app.route('/welcome')\n",
    "def welcome():\n",
    "    return 'Welcome to ABC Corporation'\n",
    "\n",
    "# Define the / route\n",
    "@app.route('/')\n",
    "def company_details():\n",
    "    return 'Company Name: ABC Corporation\\nLocation: India\\nContact Detail: 999-999-9999'\n",
    "\n",
    "if __name__ == '__main__':\n",
    "    app.run()\n"
   ]
  },
  {
   "attachments": {
    "693982ab-0cdb-47d2-822d-126ae2840ea6.png": {
     "image/png": "[encoded data removed]"
    }
   },
   "cell_type": "markdown",
   "id": "e16e7d32-303a-4fdf-a803-4d49abe82fe1",
   "metadata": {},
   "source": [
    "![Ass.png](attachment:693982ab-0cdb-47d2-822d-126ae2840ea6.png)"
   ]
  },
  {
   "cell_type": "markdown",
   "id": "d2dd496b-c419-462e-9a4c-05a535e6b07a",
   "metadata": {},
   "source": [
    "-----------"
   ]
  },
  {
   "cell_type": "markdown",
   "id": "da1cda1d-0ac5-4539-a3e4-ee8582a13a45",
   "metadata": {},
   "source": [
    "Q5. What function is used in Flask for URL Building? Write a Python code to demonstrate the working of the\n",
    "url_for() function."
   ]
  },
  {
   "cell_type": "markdown",
   "id": "334358ce-dab3-4cea-b2c9-a520022647ca",
   "metadata": {},
   "source": [
    "In Flask, the url_for() function is used for URL building. This function takes the endpoint name as its first argument and generates a URL based on the endpoint's rule defined in the application's URL routing configuration.\n",
    "\n",
    "Here's an example Python code demonstrating the usage of url_for() function in Flask:"
   ]
  },
  {
   "cell_type": "code",
   "execution_count": null,
   "id": "a4819b95-a711-48ec-b76f-9ba0983a61bd",
   "metadata": {},
   "outputs": [],
   "source": [
    "from flask import Flask, url_for\n",
    "\n",
    "app = Flask(__name__)\n",
    "\n",
    "@app.route('/')\n",
    "def index():\n",
    "    return 'Hello, World!'\n",
    "\n",
    "@app.route('/user/<username>')\n",
    "def user_profile(username):\n",
    "    return f'Welcome to your profile, {username}!'\n",
    "\n",
    "with app.test_request_context():\n",
    "    print(url_for('index')) # Output: /\n",
    "    print(url_for('user_profile', username='John Doe')) # Output: /user/John%20Doe\n"
   ]
  },
  {
   "cell_type": "markdown",
   "id": "f0d3bf90-3306-497e-99dd-aed5120423e7",
   "metadata": {},
   "source": [
    "In this example, we define two routes - one for the index page and another for the user profile page. The url_for() function is used to generate URLs for these routes.\n",
    "\n",
    "The first print() statement generates a URL for the index route, which returns / as output. The second print() statement generates a URL for the user profile route with the username parameter set to John Doe, which returns /user/John%20Doe as output. Note that the %20 is the URL-encoded space character.\n",
    "\n",
    "When running a Flask application, the url_for() function can be used in templates to generate URLs dynamically, without having to hardcode them.\n",
    "\n",
    "\n",
    "\n"
   ]
  }
 ],
 "metadata": {
  "kernelspec": {
   "display_name": "Python 3",
   "language": "python",
   "name": "python3"
  },
  "language_info": {
   "codemirror_mode": {
    "name": "ipython",
    "version": 3
   },
   "file_extension": ".py",
   "mimetype": "text/x-python",
   "name": "python",
   "nbconvert_exporter": "python",
   "pygments_lexer": "ipython3",
   "version": "3.11.1"
  }
 },
 "nbformat": 4,
 "nbformat_minor": 5
}
