{
 "cells": [
  {
   "cell_type": "markdown",
   "id": "bacbc43a-7c3e-4c3d-920c-b5279123fbef",
   "metadata": {},
   "source": [
    "\n",
    "Q1. Explain why we have to use the Exception class while creating a Custom Exception."
   ]
  },
  {
   "cell_type": "markdown",
   "id": "7100f8a1-9f07-484a-86c7-762eb9a99ee9",
   "metadata": {},
   "source": [
    "When creating a custom exception in Python, we need to inherit from the base Exception class. This is because the Exception class provides the necessary methods and attributes required for an exception to be handled properly. By inheriting from the Exception class, our custom exception can leverage these methods and attributes and integrate with the existing exception hierarchy of Python. It also ensures that our custom exception can be handled in the same way as other built-in exceptions."
   ]
  },
  {
   "cell_type": "markdown",
   "id": "5d6b6fb5-bc82-4e00-b15e-e6f54b997e73",
   "metadata": {},
   "source": [
    "---------"
   ]
  },
  {
   "cell_type": "markdown",
   "id": "5a5a144e-aed4-4a33-b10d-1a8cb07a5674",
   "metadata": {},
   "source": [
    "Q2. Write a python program to print Python Exception Hierarchy."
   ]
  },
  {
   "cell_type": "code",
   "execution_count": 3,
   "id": "766a567b-1fd3-4f75-9b5e-c40774c84ddc",
   "metadata": {
    "tags": []
   },
   "outputs": [],
   "source": [
    "import sys\n",
    "\n",
    "for i in dir(sys):\n",
    "    if 'Error' in i:\n",
    "        print(i)\n"
   ]
  },
  {
   "cell_type": "code",
   "execution_count": null,
   "id": "d381bafa-24b2-4bba-9e18-a0d6aaff8cbc",
   "metadata": {},
   "outputs": [],
   "source": [
    "ArithmeticError\n",
    "AssertionError\n",
    "AttributeError\n",
    "BaseException\n",
    "BlockingIOError\n",
    "BrokenPipeError\n",
    "BufferError\n",
    "BytesWarning\n",
    "ChildProcessError\n",
    "ConnectionAbortedError\n",
    "ConnectionError\n",
    "ConnectionRefusedError\n",
    "ConnectionResetError\n",
    "DeprecationWarning\n",
    "EOFError\n",
    "EnvironmentError\n",
    "Exception\n",
    "FileExistsError\n",
    "FileNotFoundError\n",
    "FloatingPointError\n",
    "FutureWarning\n",
    "GeneratorExit\n",
    "IOError\n",
    "ImportError\n",
    "ImportWarning\n",
    "IndentationError\n",
    "IndexError\n",
    "InterruptedError\n",
    "IsADirectoryError\n",
    "KeyError\n",
    "KeyboardInterrupt\n",
    "LookupError\n",
    "MemoryError\n",
    "ModuleNotFoundError\n",
    "NameError\n",
    "NotADirectoryError\n",
    "NotImplemented\n",
    "NotImplementedError\n",
    "OSError\n",
    "OverflowError\n",
    "PendingDeprecationWarning\n",
    "PermissionError\n",
    "ProcessLookupError\n",
    "RecursionError\n",
    "ReferenceError\n",
    "ResourceWarning\n",
    "RuntimeError\n",
    "RuntimeWarning\n",
    "StopAsyncIteration\n",
    "StopIteration\n",
    "SyntaxError\n",
    "SyntaxWarning\n",
    "SystemError\n",
    "SystemExit\n",
    "TabError\n",
    "TimeoutError\n",
    "TypeError\n",
    "UnboundLocalError\n",
    "UnicodeDecodeError\n",
    "UnicodeEncodeError\n",
    "UnicodeError\n",
    "UnicodeTranslateError\n",
    "UnicodeWarning\n",
    "UserWarning\n",
    "ValueError\n",
    "Warning\n",
    "WindowsError\n",
    "ZeroDivisionError\n"
   ]
  },
  {
   "cell_type": "markdown",
   "id": "8005a7d5-ea52-4059-aca4-b931fdf5d764",
   "metadata": {},
   "source": [
    "-----------------"
   ]
  },
  {
   "cell_type": "markdown",
   "id": "892679cf-e198-420f-8ef2-0ad789986164",
   "metadata": {},
   "source": [
    "Q3. What errors are defined in the ArithmeticError class? Explain any two with an example."
   ]
  },
  {
   "cell_type": "markdown",
   "id": "3742e130-70ff-4472-aed6-abdb97cb831c",
   "metadata": {},
   "source": [
    "The ArithmeticError class is a base class for arithmetic-related exceptions. It provides a way to catch all arithmetic errors with a single except block. Two examples of errors defined in the ArithmeticError class are:\n",
    "\n",
    "ZeroDivisionError: This error is raised when attempting to divide by zero. For example:"
   ]
  },
  {
   "cell_type": "code",
   "execution_count": 4,
   "id": "d965f5fb-93f1-4c91-96c3-d8e25a6e0ea6",
   "metadata": {
    "tags": []
   },
   "outputs": [
    {
     "name": "stdout",
     "output_type": "stream",
     "text": [
      "Error: division by zero\n"
     ]
    }
   ],
   "source": [
    "x = 10\n",
    "y = 0\n",
    "try:\n",
    "    result = x / y\n",
    "except ZeroDivisionError:\n",
    "    print(\"Error: division by zero\")\n"
   ]
  },
  {
   "cell_type": "markdown",
   "id": "c3900eb0-0b78-4d92-a96f-39b5272e08f6",
   "metadata": {},
   "source": [
    "OverflowError: This error is raised when a calculation exceeds the maximum limit for a numeric type. For example:"
   ]
  },
  {
   "cell_type": "code",
   "execution_count": 7,
   "id": "3c51a748-1a2a-49fb-99c5-4da4c4bb25cb",
   "metadata": {
    "tags": []
   },
   "outputs": [],
   "source": [
    "x = 1.7976931348623157e+308\n",
    "try:\n",
    "    result = x * x\n",
    "except OverflowError:\n",
    "    print(\"Error: result too large\")\n"
   ]
  },
  {
   "cell_type": "markdown",
   "id": "b587819e-8c34-476d-b8b8-35006745f4b6",
   "metadata": {},
   "source": [
    "-------------"
   ]
  },
  {
   "cell_type": "markdown",
   "id": "7b9a9c13-e703-4a18-a7e2-2a673ae88962",
   "metadata": {},
   "source": [
    "Q4. Why LookupError class is used? Explain with an example KeyError and IndexError."
   ]
  },
  {
   "cell_type": "markdown",
   "id": "5e80ec17-190f-4822-a021-40448b74a707",
   "metadata": {},
   "source": [
    "The LookupError class is a base class for exceptions raised when a key or index is not found in a dictionary or sequence. It provides a way to catch all lookup errors with a single except block. Two examples of lookup errors are:\n",
    "\n",
    "KeyError: This error is raised when a key is not found in a dictionary. For example:"
   ]
  },
  {
   "cell_type": "code",
   "execution_count": 8,
   "id": "7865f0d5-0239-4b8c-b045-54409f55d3d7",
   "metadata": {
    "tags": []
   },
   "outputs": [
    {
     "name": "stdout",
     "output_type": "stream",
     "text": [
      "Error: key not found\n"
     ]
    }
   ],
   "source": [
    "d = {'a': 1, 'b': 2, 'c': 3}\n",
    "try:\n",
    "    value = d['d']\n",
    "except KeyError:\n",
    "    print(\"Error: key not found\")\n"
   ]
  },
  {
   "cell_type": "markdown",
   "id": "bd428bf7-9f2c-4259-b04f-8832d9e8e380",
   "metadata": {},
   "source": [
    "Index outof Bound Exception"
   ]
  },
  {
   "cell_type": "code",
   "execution_count": 9,
   "id": "ac8b3463-c220-41e9-8d9a-8220cf7961ac",
   "metadata": {
    "tags": []
   },
   "outputs": [
    {
     "name": "stdout",
     "output_type": "stream",
     "text": [
      "Error: index out of range\n"
     ]
    }
   ],
   "source": [
    "mylist = [1, 2, 3]\n",
    "try:\n",
    "    value = mylist[3]\n",
    "except IndexError:\n",
    "    print(\"Error: index out of range\")\n"
   ]
  },
  {
   "cell_type": "markdown",
   "id": "3c0239ed-4254-4bef-a91c-97cf66bb716a",
   "metadata": {},
   "source": [
    "--------------"
   ]
  },
  {
   "cell_type": "markdown",
   "id": "0c245c8c-2739-4165-a9f8-2db15ab0ea93",
   "metadata": {},
   "source": [
    "Q5. Explain ImportError. What is ModuleNotFoundError?"
   ]
  },
  {
   "cell_type": "markdown",
   "id": "9743cfc0-2f0c-481c-916e-cab7b2df6d4a",
   "metadata": {},
   "source": [
    "ImportError is a built-in exception in Python that is raised when an import statement fails to find the specified module. This could happen due to various reasons such as a syntax error in the module, a missing module, or an incorrect path specified for the module.\n",
    "\n",
    "ModuleNotFoundError is a subclass of ImportError that is specifically raised when a module is not found in the current scope. It was introduced in Python 3.6 as a more specific and informative way of indicating that a module is not available for importing. Prior to Python 3.6, the standard ImportError was used to indicate module not found errors.\n",
    "\n",
    "For example, if we try to import a non-existent module named mymodule, we will get a ModuleNotFoundError like this:"
   ]
  },
  {
   "cell_type": "code",
   "execution_count": 10,
   "id": "1e7b5bbd-7f14-4972-a674-d7195c1e932f",
   "metadata": {
    "tags": []
   },
   "outputs": [
    {
     "ename": "SyntaxError",
     "evalue": "invalid syntax. Perhaps you forgot a comma? (3262747850.py, line 2)",
     "output_type": "error",
     "traceback": [
      "\u001b[1;36m  Cell \u001b[1;32mIn[10], line 2\u001b[1;36m\u001b[0m\n\u001b[1;33m    Traceback (most recent call last):\u001b[0m\n\u001b[1;37m               ^\u001b[0m\n\u001b[1;31mSyntaxError\u001b[0m\u001b[1;31m:\u001b[0m invalid syntax. Perhaps you forgot a comma?\n"
     ]
    }
   ],
   "source": [
    ">>> import mymodule\n",
    "Traceback (most recent call last):\n",
    "  File \"<stdin>\", line 1, in <module>\n",
    "ModuleNotFoundError: No module named 'mymodule'\n"
   ]
  },
  {
   "cell_type": "code",
   "execution_count": 11,
   "id": "e186dcd0-a687-4721-a955-277e65ae5427",
   "metadata": {
    "tags": []
   },
   "outputs": [
    {
     "ename": "SyntaxError",
     "evalue": "invalid syntax. Perhaps you forgot a comma? (1105281122.py, line 2)",
     "output_type": "error",
     "traceback": [
      "\u001b[1;36m  Cell \u001b[1;32mIn[11], line 2\u001b[1;36m\u001b[0m\n\u001b[1;33m    Traceback (most recent call last):\u001b[0m\n\u001b[1;37m               ^\u001b[0m\n\u001b[1;31mSyntaxError\u001b[0m\u001b[1;31m:\u001b[0m invalid syntax. Perhaps you forgot a comma?\n"
     ]
    }
   ],
   "source": [
    ">>> import mymodule\n",
    "Traceback (most recent call last):\n",
    "  File \"<stdin>\", line 1, in <module>\n",
    "  File \"/path/to/mymodule.py\", line 1\n",
    "    x = 1 +\n",
    "          ^\n",
    "SyntaxError: invalid syntax\n"
   ]
  },
  {
   "cell_type": "markdown",
   "id": "12a772a4-5c94-41f3-af28-ddf6ac691dd3",
   "metadata": {},
   "source": [
    "-------------------------"
   ]
  },
  {
   "cell_type": "markdown",
   "id": "4550cbfa-0625-42b1-9eef-bc3fbfb3952f",
   "metadata": {},
   "source": [
    "Q6. List down some best practices for exception handling in python."
   ]
  },
  {
   "cell_type": "markdown",
   "id": "402990bf-30ad-42c8-b5c9-4386193060fb",
   "metadata": {},
   "source": [
    "Here are some best practices for exception handling in Python:\n",
    "\n",
    "Always handle exceptions: Whenever there is a possibility of an error in your code, wrap the code in a try-except block to handle the exception gracefully. This will prevent the program from crashing and make it more robust.\n",
    "\n",
    "Be specific when catching exceptions: Catch only the specific exceptions that you expect, rather than catching all exceptions. This will make your code more readable and prevent unintended consequences.\n",
    "\n",
    "Use exception chaining: When catching an exception, raise a new exception that encapsulates the original exception, if possible. This helps preserve the original error information and can make debugging easier.\n",
    "\n",
    "Use finally block: Use the finally block to perform cleanup operations that must be executed whether an exception is raised or not. This can include closing files, releasing resources, or restoring state.\n",
    "\n",
    "Log exceptions: Always log exceptions so that you can track down errors and fix them. Use a logging library such as logging to log the exception information.\n",
    "\n",
    "Use custom exceptions: Define custom exceptions for your application if necessary. This can make your code more expressive and easier to understand.\n",
    "\n",
    "Don't catch exceptions unnecessarily: Don't catch exceptions if you don't know how to handle them. Let the exception propagate up the call stack until it can be handled properly.\n",
    "\n",
    "Use assert statements: Use assert statements to check for conditions that should never happen. If the condition is false, an AssertionError will be raised, which can help you catch bugs early.\n",
    "\n",
    "Use exception hierarchy: Use the built-in exception hierarchy in Python to group related exceptions together. This makes it easier to catch and handle exceptions in a more organized way.\n",
    "\n",
    "Keep exception messages informative: Keep the exception messages informative so that the user can easily understand the error and take appropriate actions."
   ]
  },
  {
   "cell_type": "code",
   "execution_count": null,
   "id": "cd9015a9-b684-4792-8bf4-aca0118759c9",
   "metadata": {},
   "outputs": [],
   "source": []
  }
 ],
 "metadata": {
  "kernelspec": {
   "display_name": "Python 3 (ipykernel)",
   "language": "python",
   "name": "python3"
  },
  "language_info": {
   "codemirror_mode": {
    "name": "ipython",
    "version": 3
   },
   "file_extension": ".py",
   "mimetype": "text/x-python",
   "name": "python",
   "nbconvert_exporter": "python",
   "pygments_lexer": "ipython3",
   "version": "3.11.2"
  }
 },
 "nbformat": 4,
 "nbformat_minor": 5
}
