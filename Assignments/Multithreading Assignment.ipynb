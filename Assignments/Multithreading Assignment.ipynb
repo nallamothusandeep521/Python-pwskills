{
 "cells": [
  {
   "cell_type": "markdown",
   "id": "89e13cc1-eb4a-4876-94af-d33d9d930be8",
   "metadata": {},
   "source": [
    "1. What is multithreading in python? Why is it used? Name the module used to handle threads in python. Why is the threading module used? Write the use of the following functions (activeCount, currentThread, enumerate)."
   ]
  },
  {
   "cell_type": "markdown",
   "id": "a96a502d-7875-4853-8633-303acfcff7b4",
   "metadata": {},
   "source": [
    "Multithreading in Python refers to the ability of a program to perform multiple tasks concurrently, by breaking it down into smaller threads. It is used to improve the performance of a program, by allowing it to execute multiple tasks at the same time.\n",
    "\n",
    "The threading module is used to handle threads in Python. It provides a way to create, control, and communicate with threads."
   ]
  },
  {
   "cell_type": "markdown",
   "id": "5636588f-4689-4f75-8998-d506a627f52a",
   "metadata": {},
   "source": [
    "-------"
   ]
  },
  {
   "cell_type": "markdown",
   "id": "52d2a0fa-71b3-48bc-9db6-4d01c81f4afa",
   "metadata": {},
   "source": [
    "2. Why threading module used? rite the use of the following functions\n",
    "( activeCount,\n",
    " currentThread,\n",
    " enumerate)"
   ]
  },
  {
   "cell_type": "markdown",
   "id": "60fad62b-d3fb-487f-91b8-27127696ca8f",
   "metadata": {
    "tags": []
   },
   "source": [
    "activeCount: Returns the number of active threads in the current thread's thread group.\n",
    "\n",
    "currentThread: Returns a reference to the current thread object.\n",
    "\n",
    "enumerate: Returns a list of all active thread objects in the current thread's thread group."
   ]
  },
  {
   "cell_type": "markdown",
   "id": "ad1151ed-fa96-4b23-9e08-7dfeacdbb6bb",
   "metadata": {},
   "source": [
    "---------------"
   ]
  },
  {
   "cell_type": "markdown",
   "id": "847f05a9-1b18-4ec8-b12d-27e6c2601184",
   "metadata": {},
   "source": [
    "3. Explain the following functions\n",
    "( run,\n",
    " start,\n",
    " join,\n",
    "' isAlive)"
   ]
  },
  {
   "cell_type": "markdown",
   "id": "69dc4191-9f3d-4124-a5ea-d64986699add",
   "metadata": {},
   "source": [
    "run: The run method is the entry point for a thread. It is called by the start method once the thread is created, and it contains the code that the thread will execute.\n",
    "\n",
    "start: The start method is used to create and start a new thread. It calls the run method of the thread in a separate thread of control.\n",
    "\n",
    "join: The join method is used to wait for a thread to complete its execution. It blocks the current thread until the target thread has finished executing.\n",
    "\n",
    "isAlive: The isAlive method is used to check whether a thread is still executing or has completed its execution."
   ]
  },
  {
   "cell_type": "markdown",
   "id": "3a4f4077-3d5f-403f-878f-08d19907a243",
   "metadata": {},
   "source": [
    "---------"
   ]
  },
  {
   "cell_type": "markdown",
   "id": "617de082-6432-4ab5-a364-56c19bd0efaa",
   "metadata": {},
   "source": [
    "4. rite a python program to create two threads. Thread one must print the list of squares and thread\n",
    "two must print the list of cubes"
   ]
  },
  {
   "cell_type": "code",
   "execution_count": 2,
   "id": "087dbbfa-4ff5-40cd-88c3-642e4d0f5f48",
   "metadata": {
    "tags": []
   },
   "outputs": [
    {
     "name": "stdout",
     "output_type": "stream",
     "text": [
      "0\n",
      "1\n",
      "4\n",
      "9\n",
      "16\n",
      "25\n",
      "36\n",
      "49\n",
      "64\n",
      "81\n",
      "0\n",
      "1\n",
      "8\n",
      "27\n",
      "64\n",
      "125\n",
      "216\n",
      "343\n",
      "512\n",
      "729\n"
     ]
    }
   ],
   "source": [
    "import threading\n",
    "\n",
    "def print_squares():\n",
    "    for i in range(10):\n",
    "        print(i ** 2)\n",
    "\n",
    "def print_cubes():\n",
    "    for i in range(10):\n",
    "        print(i ** 3)\n",
    "\n",
    "t1 = threading.Thread(target=print_squares)\n",
    "t2 = threading.Thread(target=print_cubes)\n",
    "\n",
    "t1.start()\n",
    "t2.start()\n",
    "\n",
    "t1.join()\n",
    "t2.join()\n"
   ]
  },
  {
   "cell_type": "markdown",
   "id": "d518f1aa-a4b6-4cae-b985-84be499f3041",
   "metadata": {},
   "source": [
    "--------"
   ]
  },
  {
   "cell_type": "markdown",
   "id": "46b43450-1491-4d7c-9e1d-0ff8f3705b2f",
   "metadata": {},
   "source": [
    "5. State advantages and disadvantages of multithreading"
   ]
  },
  {
   "cell_type": "markdown",
   "id": "ae97572f-d106-4d2d-bb00-d578fa5433aa",
   "metadata": {},
   "source": [
    "Advantages:\n",
    "\n",
    "Improved program performance by allowing multiple tasks to be executed concurrently.\n",
    "Simplifies the design and implementation of certain types of programs, such as GUI applications and network servers.\n",
    "Enables better resource utilization by allowing idle threads to be used for other tasks.\n",
    "\n",
    "Disadvantages:\n",
    "\n",
    "Increased complexity of program design and debugging due to the non-deterministic nature of thread execution.\n",
    "Potential race conditions and deadlocks can occur when multiple threads access shared resources.\n",
    "Increased memory usage due to the creation of multiple threads."
   ]
  },
  {
   "cell_type": "markdown",
   "id": "fbcd863b-4c08-4626-9a18-111c04539ef9",
   "metadata": {},
   "source": [
    "--------"
   ]
  },
  {
   "cell_type": "markdown",
   "id": "394c0a64-66f4-4653-8fad-6e6449e08e86",
   "metadata": {},
   "source": [
    "6. Explain deadlocks and race conditions."
   ]
  },
  {
   "cell_type": "markdown",
   "id": "09d9e6bb-7b19-4a66-9ff4-044e7ca56028",
   "metadata": {},
   "source": [
    "A deadlock occurs when two or more threads are blocked waiting for each other to release resources they need to continue executing. For example, Thread A may hold Resource 1 and be waiting for Resource 2, while Thread B holds Resource 2 and is waiting for Resource 1. This results in both threads being blocked and unable to make progress.\n",
    "\n",
    "A race condition occurs when the behavior of a program depends on the timing or interleaving of operations by multiple threads. For example, if two threads are trying to increment the same counter variable, the final value of the counter may depend on the order in which the threads execute. This can lead to unpredictable behavior and bugs that are difficult to reproduce and debug."
   ]
  },
  {
   "cell_type": "code",
   "execution_count": null,
   "id": "2f5f8396-9413-4775-88c5-a9ae0fe5bf65",
   "metadata": {},
   "outputs": [],
   "source": []
  }
 ],
 "metadata": {
  "kernelspec": {
   "display_name": "Python 3 (ipykernel)",
   "language": "python",
   "name": "python3"
  },
  "language_info": {
   "codemirror_mode": {
    "name": "ipython",
    "version": 3
   },
   "file_extension": ".py",
   "mimetype": "text/x-python",
   "name": "python",
   "nbconvert_exporter": "python",
   "pygments_lexer": "ipython3",
   "version": "3.11.2"
  }
 },
 "nbformat": 4,
 "nbformat_minor": 5
}
