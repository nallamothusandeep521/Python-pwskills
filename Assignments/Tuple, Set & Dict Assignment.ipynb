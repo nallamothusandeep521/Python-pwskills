{
 "cells": [
  {
   "cell_type": "markdown",
   "id": "b38400cb-ba5e-4f7d-8fcf-60b580631bcc",
   "metadata": {},
   "source": [
    "Q1. What are the characteristics of the tuples? Is tuple immutable?"
   ]
  },
  {
   "cell_type": "markdown",
   "id": "1908b521-46bb-4dce-a9d4-e8c4a2611669",
   "metadata": {},
   "source": [
    "Ans:-Tuples are a data structure in Python that allows you to store multiple values in a single, ordered, and immutable collection. Here are some of the key characteristics of tuples:\n",
    "\n",
    "1.Order: Tuples maintain the order of the elements they contain.\n",
    "\n",
    "2.Immutable: Tuples are immutable, which means that once you create a tuple, you cannot change its contents.\n",
    "\n",
    "3.Heterogeneous: Tuples can contain elements of different data types, including other tuples.\n",
    "\n",
    "4.Accessible by index: You can access individual elements of a tuple by their index, starting from 0.\n",
    "\n",
    "5.Supports multiple operations: Tuples support various built-in operations, including iteration, slicing, concatenation, and more.\n",
    "\n",
    "6.Delimited by parentheses: In Python, you can create a tuple by enclosing a comma-separated list of values within parentheses.\n",
    "\n",
    "In summary, tuples are ordered, immutable, heterogeneous collections that allow you to store multiple values in a single object."
   ]
  },
  {
   "cell_type": "markdown",
   "id": "02c187ff-8506-4940-9aa1-5839bf7c7591",
   "metadata": {},
   "source": [
    "Q2. What are the two tuple methods in python? Give an example of each method. Give a reason why\n",
    "tuples have only two in-built methods as compared to Lists."
   ]
  },
  {
   "cell_type": "markdown",
   "id": "7b819c48-3636-48eb-9e38-387fcfd89d15",
   "metadata": {},
   "source": [
    "Ans:-Tuples in Python have only two built-in methods: \"count\" and \"index\". Here are examples of how you can use these methods:\n",
    "\n",
    "1.count method: The count method is used to count the number of occurrences of a specific element in a tuple."
   ]
  },
  {
   "cell_type": "code",
   "execution_count": 1,
   "id": "16defe1b-2ad4-4489-a198-f9b172081946",
   "metadata": {},
   "outputs": [
    {
     "name": "stdout",
     "output_type": "stream",
     "text": [
      "3\n"
     ]
    }
   ],
   "source": [
    "#Example\n",
    "t = (1, 2, 3, 2, 4, 5, 2)\n",
    "print(t.count(2)) # Output: 3\n"
   ]
  },
  {
   "cell_type": "markdown",
   "id": "7ffeb569-a592-4229-9fd1-0262079af160",
   "metadata": {},
   "source": [
    "2.index method: The index method is used to find the first occurrence of a specific element in a tuple and returns its index."
   ]
  },
  {
   "cell_type": "code",
   "execution_count": 3,
   "id": "d172108b-8ae5-4a53-a5ab-70098ec578cf",
   "metadata": {},
   "outputs": [
    {
     "name": "stdout",
     "output_type": "stream",
     "text": [
      "1\n"
     ]
    }
   ],
   "source": [
    "#Example\n",
    "t = (1, 2, 3, 2, 4, 5, 2)\n",
    "print(t.index(2)) # Output: 1\n"
   ]
  },
  {
   "cell_type": "markdown",
   "id": "2e054b8d-b66f-4610-a049-0825b6fb6191",
   "metadata": {},
   "source": [
    "Tuples have only two built-in methods as compared to lists because tuples are meant to be used as collections of data that are not meant to be changed, unlike lists which are mutable. Therefore, the focus is on methods that can be used to access information about the tuple, rather than methods that allow modification of the tuple."
   ]
  },
  {
   "cell_type": "markdown",
   "id": "b79eebca-b966-4730-b82e-cae595cae666",
   "metadata": {},
   "source": [
    "Q3. Which collection datatypes in python do not allow duplicate items? Write a code using a set to remove\n",
    "duplicates from the given list.\n",
    "List = [1, 1, 1, 2, 1, 3, 1, 4, 2, 1, 2, 2, 2, 3, 2, 4, 3, 1, 3, 2, 3, 3, 3, 4, 4, 1, 4, 2, 4, 3, 4, 4]\n",
    "\n",
    "Ans:- The collection datatype in Python that does not allow duplicate items is a set. You can use a set to remove duplicates from a list by converting the list into a set, and then back into a list, like this:"
   ]
  },
  {
   "cell_type": "code",
   "execution_count": 8,
   "id": "590eb9a3-e783-4395-a5f5-5de7e51ba294",
   "metadata": {},
   "outputs": [
    {
     "name": "stdout",
     "output_type": "stream",
     "text": [
      "[1, 2, 3, 4]\n"
     ]
    }
   ],
   "source": [
    "List = [1, 1, 1, 2, 1, 3, 1, 4, 2, 1, 2, 2, 2, 3, 2, 4, 3, 1, 3, 2, 3, 3, 3, 4, 4, 1, 4, 2, 4, 3, 4, 4]\n",
    "\n",
    "# Convert the list into a set\n",
    "List = set(List)\n",
    "\n",
    "# Convert the set back into a list\n",
    "List = list(List)\n",
    "\n",
    "print(List) # Output: [1, 2, 3, 4]\n"
   ]
  },
  {
   "cell_type": "raw",
   "id": "de7fef97-a240-4f89-b486-6f1925e4951a",
   "metadata": {},
   "source": [
    "Q4. Explain the difference between the union() and update() methods for a set. Give an example of\n",
    "each method.\n",
    "\n",
    "Ans:-\n",
    "1.UNION\n",
    "The union and update methods are both used to combine two or more sets in Python, but they differ in the way they handle duplicates.\n",
    "union method: The union method returns a new set that contains all the elements from both sets, including duplicates."
   ]
  },
  {
   "cell_type": "code",
   "execution_count": 9,
   "id": "438d9b16-59d1-4b59-9d62-79496ada2354",
   "metadata": {},
   "outputs": [
    {
     "name": "stdout",
     "output_type": "stream",
     "text": [
      "{1, 2, 3, 4}\n"
     ]
    }
   ],
   "source": [
    "#Example\n",
    "A = {1, 2, 3}\n",
    "B = {2, 3, 4}\n",
    "C = A.union(B)\n",
    "print(C) # Output: {1, 2, 3, 4}"
   ]
  },
  {
   "cell_type": "markdown",
   "id": "5c392485-acd1-43e2-a089-accce4fb9860",
   "metadata": {},
   "source": [
    "2.UPDATE\n",
    "update method: The update method updates the original set with the elements from another set, removing any duplicates."
   ]
  },
  {
   "cell_type": "code",
   "execution_count": 12,
   "id": "5383e1bf-7097-4743-832c-c0a5736a0344",
   "metadata": {},
   "outputs": [
    {
     "name": "stdout",
     "output_type": "stream",
     "text": [
      "{1, 2, 3, 4}\n"
     ]
    }
   ],
   "source": [
    "#Example\n",
    "A = {1, 2, 3}\n",
    "B = {2, 3, 4}\n",
    "A.update(B)\n",
    "print(A) # Output: {1, 2, 3, 4}"
   ]
  },
  {
   "cell_type": "markdown",
   "id": "1a4f81f1-19ab-4ace-a460-67fee80947af",
   "metadata": {},
   "source": [
    "Q5. What is a dictionary? Give an example. Also, state whether a dictionary is ordered or unordered."
   ]
  },
  {
   "cell_type": "markdown",
   "id": "fbc5c290-4b4c-4704-9392-f7e0f8baeb3c",
   "metadata": {},
   "source": [
    "Ans:-\n",
    "A dictionary is a collection data type in Python that consists of key-value pairs. It is an unordered collection, meaning that the items have no index and are not stored in any particular order.\n",
    "A dictionary is created using curly braces {} and the keys and values are separated by a colon :. The keys in a dictionary must be unique, but the values can be duplicated.\n",
    "\n",
    "To access the values in a dictionary, you can use square brackets [ ] and the key."
   ]
  },
  {
   "cell_type": "code",
   "execution_count": 17,
   "id": "111f6d2c-d56a-42dc-9ed8-a92cec825139",
   "metadata": {},
   "outputs": [
    {
     "name": "stdout",
     "output_type": "stream",
     "text": [
      "{'name': 'John Doe', 'age': 30, 'city': 'New York'}\n"
     ]
    }
   ],
   "source": [
    "person = {'name': 'John Doe', 'age': 30, 'city': 'New York'}\n",
    "print(person) # Output: {'name': 'John Doe', 'age': 30, 'city': 'New York'}\n",
    "#In this example, the keys are 'name', 'age', and 'city', and the values are 'John Doe', 30, and 'New York', respectively.\n"
   ]
  },
  {
   "cell_type": "markdown",
   "id": "8ccb433f-6f5c-4bc9-aa4a-463844dec51f",
   "metadata": {},
   "source": [
    "Q6. Can we create a nested dictionary? If so, please give an example by creating a simple one-level\n",
    "nested dictionary.\n",
    "Ans:\n",
    "Yes, you can create a nested dictionary in Python. A nested dictionary is a dictionary that contains another dictionary as a value. Here's an example of a one-level nested dictionary:\n",
    "In this example, the person dictionary has two keys: 'name' and 'details'. The value of the 'details' key is another dictionary with the keys 'age' and 'city'."
   ]
  },
  {
   "cell_type": "code",
   "execution_count": 18,
   "id": "208d3830-e853-4bf5-a9b4-9b98e4839166",
   "metadata": {},
   "outputs": [
    {
     "name": "stdout",
     "output_type": "stream",
     "text": [
      "{'name': 'John Doe', 'details': {'age': 30, 'city': 'New York'}}\n"
     ]
    }
   ],
   "source": [
    "person = {\n",
    "    'name': 'John Doe',\n",
    "    'details': {'age': 30, 'city': 'New York'}\n",
    "}\n",
    "print(person) \n",
    "# Output: {'name': 'John Doe', 'details': {'age': 30, 'city': 'New York'}}\n"
   ]
  },
  {
   "cell_type": "markdown",
   "id": "b0871e7d-8592-4d07-a01d-071b78619f9c",
   "metadata": {},
   "source": [
    "Q7. Using setdefault() method, create key named topics in the given dictionary and also add the value of\n",
    "the key as this list ['Python', 'Machine Learning’, 'Deep Learning']\n",
    "Ans:-You can use the setdefault method to create a key in a dictionary and set its value if the key does not exist in the dictionary. The setdefault method takes two arguments: the key name and the default value. If the key exists in the dictionary, the method returns its value. If the key does not exist, the method adds the key to the dictionary and sets its value to the default value.\n",
    "\n",
    "Here's an example of how to use the setdefault method to create a key named 'topics' in a dictionary and set its value as the list ['Python', 'Machine Learning', 'Deep Learning']:\n",
    "\n",
    "In this example, the setdefault method adds the key 'topics' to the person dictionary and sets its value as the list ['Python', 'Machine Learning', 'Deep Learning']."
   ]
  },
  {
   "cell_type": "code",
   "execution_count": 20,
   "id": "996b0392-3c25-40d6-aab3-6af1105f8bf6",
   "metadata": {},
   "outputs": [
    {
     "name": "stdout",
     "output_type": "stream",
     "text": [
      "{'language': 'Python', 'course': 'Data Science Masters', 'topics': ['Python', 'Machine Learning', 'Deep Learning']}\n"
     ]
    }
   ],
   "source": [
    "dict1 = {'language' : 'Python', 'course': 'Data Science Masters'}\n",
    "dict1.setdefault('topics', ['Python', 'Machine Learning', 'Deep Learning'])\n",
    "print(dict1)\n",
    "# Output: {'language': 'Python', 'course': 'Data Science Masters', 'topics': ['Python', 'Machine Learning', 'Deep Learning']}\n"
   ]
  },
  {
   "cell_type": "markdown",
   "id": "b5213adf-0355-447d-9dd5-978416599771",
   "metadata": {},
   "source": [
    "Q8. What are the three view objects in dictionaries? Use the three in-built methods in python to display\n",
    "these three view objects for the given dictionary.\n",
    "dict1 = {'Sport': 'Cricket' , 'Teams': ['India', 'Australia', 'England', 'South Africa', 'Sri Lanka', 'New Zealand']}"
   ]
  },
  {
   "cell_type": "code",
   "execution_count": null,
   "id": "6caa24d5-1c1f-4ecb-8591-3d7f48fb8704",
   "metadata": {},
   "outputs": [],
   "source": [
    "Ans:-\n",
    "In Python, dictionaries have three view objects that provide different views of the data in the dictionary. These view objects are:\n",
    "\n",
    "1.keys(): Returns a view object that displays a list of all the keys in the dictionary.\n",
    "2.values(): Returns a view object that displays a list of all the values in the dictionary.\n",
    "items(): Returns a view object that displays a list of all the key-value pairs in the dictionary.\n",
    "\n",
    "Here's an example of how to use these three methods on the dict1 dictionary:"
   ]
  }
 ],
 "metadata": {
  "kernelspec": {
   "display_name": "Python 3",
   "language": "python",
   "name": "python3"
  },
  "language_info": {
   "codemirror_mode": {
    "name": "ipython",
    "version": 3
   },
   "file_extension": ".py",
   "mimetype": "text/x-python",
   "name": "python",
   "nbconvert_exporter": "python",
   "pygments_lexer": "ipython3",
   "version": "3.11.1"
  }
 },
 "nbformat": 4,
 "nbformat_minor": 5
}
