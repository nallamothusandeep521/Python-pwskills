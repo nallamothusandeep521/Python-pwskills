{
 "cells": [
  {
   "cell_type": "markdown",
   "id": "3af200d5-0a19-4ade-9725-6762d72e059d",
   "metadata": {},
   "source": [
    "Q1. Explain Class and Object with respect to Object-Oriented Programming. Give a suitable example.\n",
    "Ans :- Class and Object are fundamental concepts of Object-Oriented Programming (OOP).\n",
    "\n",
    "A Class is a blueprint or a template for creating objects. It defines the properties and methods that an object of that class will have. Classes are used to model real-world objects or concepts.\n",
    "\n",
    "An Object is an instance of a class. It has the properties and methods defined in the class and can interact with other objects. Objects are used to represent the instances of real-world objects or concepts.\n",
    "\n",
    "Example: A class \"Car\" can be created to model the real-world concept of a car. The properties of the car class can include the make, model, year, and color. The methods of the car class can include the ability to start the engine, drive, and stop. An object \"sedan\" can be created from the \"Car\" class and its properties can be set to make = \"Toyota\", model = \"Camry\", year = 2020, color = \"Silver\". The object \"sedan\" can then use the methods defined in the \"Car\" class to start, drive, and stop."
   ]
  },
  {
   "cell_type": "code",
   "execution_count": 1,
   "id": "71b2c9f7-7f44-463c-a47f-16cc80909a4d",
   "metadata": {},
   "outputs": [
    {
     "name": "stdout",
     "output_type": "stream",
     "text": [
      "Toyota Camry started\n",
      "Toyota Camry is driving\n",
      "Toyota Camry stopped\n"
     ]
    }
   ],
   "source": [
    "class Car:\n",
    "    def __init__(self, make, model, year, color):\n",
    "        self.make = make\n",
    "        self.model = model\n",
    "        self.year = year\n",
    "        self.color = color\n",
    "\n",
    "    def start(self):\n",
    "        print(f\"{self.make} {self.model} started\")\n",
    "\n",
    "    def drive(self):\n",
    "        print(f\"{self.make} {self.model} is driving\")\n",
    "\n",
    "    def stop(self):\n",
    "        print(f\"{self.make} {self.model} stopped\")\n",
    "\n",
    "sedan = Car(\"Toyota\", \"Camry\", 2020, \"Silver\")\n",
    "\n",
    "sedan.start()\n",
    "# Output: Toyota Camry started\n",
    "\n",
    "sedan.drive()\n",
    "# Output: Toyota Camry is driving\n",
    "\n",
    "sedan.stop()\n",
    "# Output: Toyota Camry stopped\n"
   ]
  },
  {
   "cell_type": "markdown",
   "id": "e1ab921b-7219-4e81-8f30-3e57b3fd28e4",
   "metadata": {},
   "source": [
    "Q2. Name the four pillars of OOPs.\n",
    "Ans:-\n",
    "The four pillars of Object-Oriented Programming (OOP) are:\n",
    "\n",
    "1.Encapsulation: The concept of bundling data and methods that operate on that data within a single unit, or object. It helps to reduce the impact of code changes and improves the security of data.\n",
    "\n",
    "2.Abstraction: The process of hiding complexity from the user and exposing only necessary information to the user. It helps to simplify the code and makes it easier to understand and maintain.\n",
    "\n",
    "3.Inheritance: The mechanism of creating a new class from an existing one. The new class is called the derived class or the child class, and the existing class is called the base class or the parent class. Inheritance allows the reuse of code and promotes the creation of hierarchical class structures.\n",
    "\n",
    "4.Polymorphism: The ability of an object to take on many forms. Polymorphism enables objects of different classes to be treated as objects of a common class. This allows code to be written more generically, making it easier to maintain and extend."
   ]
  },
  {
   "cell_type": "markdown",
   "id": "a480a6ad-1d74-4186-a8fb-9558bcf13156",
   "metadata": {},
   "source": [
    "Q3. Explain why the __init__() function is used. Give a suitable example.\n",
    "Ans:- The __init__() function is used in Python to initialize an object when it is created. It is known as a constructor and is automatically called when an object of the class is created. The __init__() function is used to set the initial values for the attributes of the object and perform any necessary setup for the object to be used.\n",
    "\n",
    "Here's an example to illustrate the usage of the __init__() function\n",
    "\n",
    "In this example, the __init__() function takes two arguments name and age and sets the corresponding instance variables self.name and self.age. When an object of the Person class is created, the __init__() function is automatically called to initialize the object. In this case, the Person object p is created with the name \"John Doe\" and the age 30. The say_hello() method is then used to print a greeting message for the Person object p."
   ]
  },
  {
   "cell_type": "code",
   "execution_count": 3,
   "id": "04d05944-1b00-4689-92d7-fe665293924d",
   "metadata": {},
   "outputs": [
    {
     "name": "stdout",
     "output_type": "stream",
     "text": [
      "Hello, my name is John Doe and I am 30 years old.\n"
     ]
    }
   ],
   "source": [
    "class Person:\n",
    "    def __init__(self, name, age):\n",
    "        self.name = name\n",
    "        self.age = age\n",
    "\n",
    "    def say_hello(self):\n",
    "        print(f\"Hello, my name is {self.name} and I am {self.age} years old.\")\n",
    "\n",
    "p = Person(\"John Doe\", 30)\n",
    "p.say_hello()\n",
    "# Output: Hello, my name is John Doe and I am 30 years old.\n"
   ]
  },
  {
   "cell_type": "markdown",
   "id": "d6bc4cf9-bc51-43ab-a521-d1d4388936b5",
   "metadata": {},
   "source": [
    "Q4. Why self is used in OOPs?\n",
    "Ans :- In Object-Oriented Programming (OOP), self is a reference to the current instance of the class. When a method is called on an object, the object is automatically passed to the method as the first argument, and self is used to refer to this object within the method.\n",
    "\n",
    "For example, consider the following code:"
   ]
  },
  {
   "cell_type": "code",
   "execution_count": 4,
   "id": "e37a3813-f857-45ac-85ba-ba14e183cfbf",
   "metadata": {},
   "outputs": [
    {
     "name": "stdout",
     "output_type": "stream",
     "text": [
      "Toyota Camry started\n"
     ]
    }
   ],
   "source": [
    "class Car:\n",
    "    def __init__(self, make, model, year, color):\n",
    "        self.make = make\n",
    "        self.model = model\n",
    "        self.year = year\n",
    "        self.color = color\n",
    "\n",
    "    def start(self):\n",
    "        print(f\"{self.make} {self.model} started\")\n",
    "\n",
    "sedan = Car(\"Toyota\", \"Camry\", 2020, \"Silver\")\n",
    "sedan.start()\n",
    "# Output: Toyota Camry started\n"
   ]
  },
  {
   "cell_type": "markdown",
   "id": "38145a2d-fe78-43e9-88f2-73b311fba7d0",
   "metadata": {},
   "source": [
    "Q5. What is inheritance? Give an example for each type of inheritance.\n",
    "\n",
    "Ans :- Inheritance is a fundamental concept in Object-Oriented Programming (OOP) that allows you to create new classes based on existing classes. The new class, called the derived class, inherits all the attributes and behaviors of the base class and can add new attributes or behaviors of its own."
   ]
  },
  {
   "cell_type": "markdown",
   "id": "d5ebf60c-639f-4f7c-b47f-df059a1f1edb",
   "metadata": {},
   "source": [
    "Single Inheritance: A derived class inherits from a single base class."
   ]
  },
  {
   "cell_type": "code",
   "execution_count": 5,
   "id": "fc536964-34d8-4cce-9120-814a424c9c0b",
   "metadata": {},
   "outputs": [
    {
     "name": "stdout",
     "output_type": "stream",
     "text": [
      "Dog barks\n"
     ]
    }
   ],
   "source": [
    "class Animal:\n",
    "    def __init__(self, species):\n",
    "        self.species = species\n",
    "    \n",
    "    def make_sound(self):\n",
    "        print(f\"{self.species} makes a sound\")\n",
    "\n",
    "class Dog(Animal):\n",
    "    def __init__(self, breed):\n",
    "        Animal.__init__(self, species=\"Dog\")\n",
    "        self.breed = breed\n",
    "    \n",
    "    def make_sound(self):\n",
    "        print(f\"{self.species} barks\")\n",
    "\n",
    "dog = Dog(breed=\"Labrador\")\n",
    "dog.make_sound()\n",
    "# Output: Dog barks\n"
   ]
  },
  {
   "cell_type": "markdown",
   "id": "28f390a4-a8df-480d-90a4-5d9ca2d4d1dd",
   "metadata": {},
   "source": [
    "Multi-level Inheritance: A derived class inherits from a base class, which in turn inherits from another base class."
   ]
  },
  {
   "cell_type": "code",
   "execution_count": 6,
   "id": "8a8d1b37-61b9-4cda-9a00-76ea2879205b",
   "metadata": {},
   "outputs": [
    {
     "name": "stdout",
     "output_type": "stream",
     "text": [
      "Mammal barks\n"
     ]
    }
   ],
   "source": [
    "class Animal:\n",
    "    def __init__(self, species):\n",
    "        self.species = species\n",
    "    \n",
    "    def make_sound(self):\n",
    "        print(f\"{self.species} makes a sound\")\n",
    "\n",
    "class Mammal(Animal):\n",
    "    def __init__(self, breed):\n",
    "        Animal.__init__(self, species=\"Mammal\")\n",
    "        self.breed = breed\n",
    "\n",
    "class Dog(Mammal):\n",
    "    def __init__(self, breed):\n",
    "        Mammal.__init__(self, breed=breed)\n",
    "        self.breed = breed\n",
    "    \n",
    "    def make_sound(self):\n",
    "        print(f\"{self.species} barks\")\n",
    "\n",
    "dog = Dog(breed=\"Labrador\")\n",
    "dog.make_sound()\n",
    "# Output: Mammal barks\n"
   ]
  },
  {
   "cell_type": "markdown",
   "id": "6c3042a4-398b-4fa6-b3b7-184e748dd04e",
   "metadata": {},
   "source": [
    "Multiple Inheritance: A derived class inherits from multiple base classes."
   ]
  },
  {
   "cell_type": "code",
   "execution_count": 9,
   "id": "5efd4efd-1263-48d3-b6c1-907d07c5e185",
   "metadata": {},
   "outputs": [],
   "source": [
    "class Animal:\n",
    "    def __init__(self, species):\n",
    "        self.species = species\n",
    "    \n",
    "    def make_sound(self):\n",
    "        print(f\"{self.species} makes a sound\")\n",
    "\n",
    "class Carnivore:\n",
    "    def __init__(self):\n",
    "        self.diet = \"Meat\"\n",
    "    \n",
    "    def eat(self):\n",
    "        print(f\"{self.species} eats {self.diet}\")\n",
    "\n",
    "\n"
   ]
  },
  {
   "cell_type": "code",
   "execution_count": null,
   "id": "6940e66f-c07e-436c-8855-8c272f1544c8",
   "metadata": {},
   "outputs": [],
   "source": []
  }
 ],
 "metadata": {
  "kernelspec": {
   "display_name": "Python 3",
   "language": "python",
   "name": "python3"
  },
  "language_info": {
   "codemirror_mode": {
    "name": "ipython",
    "version": 3
   },
   "file_extension": ".py",
   "mimetype": "text/x-python",
   "name": "python",
   "nbconvert_exporter": "python",
   "pygments_lexer": "ipython3",
   "version": "3.11.1"
  }
 },
 "nbformat": 4,
 "nbformat_minor": 5
}
