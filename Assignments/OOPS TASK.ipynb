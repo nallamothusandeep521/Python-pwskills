{
 "cells": [
  {
   "cell_type": "markdown",
   "id": "18506690-90f9-4992-b01f-d14bfcfc14c0",
   "metadata": {},
   "source": [
    "Q1, Create a vehicle class with an init method having instance variables as name_of_vehicle, max_speed\n",
    "and average_of_vehicle."
   ]
  },
  {
   "cell_type": "code",
   "execution_count": 1,
   "id": "e2060ca0-e5a2-415c-af21-9b2cb0482f79",
   "metadata": {
    "tags": []
   },
   "outputs": [
    {
     "name": "stdout",
     "output_type": "stream",
     "text": [
      "Toyota Camry\n",
      "180\n",
      "30\n"
     ]
    }
   ],
   "source": [
    "class Vehicle:\n",
    "    def __init__(self, name_of_vehicle, max_speed, average_of_vehicle):\n",
    "        self.name_of_vehicle = name_of_vehicle\n",
    "        self.max_speed = max_speed\n",
    "        self.average_of_vehicle = average_of_vehicle\n",
    "car = Vehicle(\"Toyota Camry\", 180, 30)\n",
    "print(car.name_of_vehicle)    # Output: Toyota Camry\n",
    "print(car.max_speed)          # Output: 180\n",
    "print(car.average_of_vehicle) # Output: 30\n"
   ]
  },
  {
   "cell_type": "markdown",
   "id": "a6167ded-b78a-42ab-bc54-f488d664ff44",
   "metadata": {},
   "source": [
    "--------------------"
   ]
  },
  {
   "cell_type": "markdown",
   "id": "179052e8-70ce-44c2-b9f9-cfb3252d0a05",
   "metadata": {},
   "source": [
    "Q2. Create a child class car from the vehicle class created in Que 1, which will inherit the vehicle class.\n",
    "Create a method named seating_capacity which takes capacity as an argument and returns the name of\n",
    "the vehicle and its seating capacity."
   ]
  },
  {
   "cell_type": "code",
   "execution_count": 2,
   "id": "dedb5019-4502-4aa5-84af-df66c9548631",
   "metadata": {
    "tags": []
   },
   "outputs": [
    {
     "name": "stdout",
     "output_type": "stream",
     "text": [
      "The Toyota Camry has a seating capacity of 5 people.\n"
     ]
    }
   ],
   "source": [
    "class Car(Vehicle):\n",
    "    def __init__(self, name_of_vehicle, max_speed, average_of_vehicle):\n",
    "        super().__init__(name_of_vehicle, max_speed, average_of_vehicle)\n",
    "    \n",
    "    def seating_capacity(self, capacity):\n",
    "        return f\"The {self.name_of_vehicle} has a seating capacity of {capacity} people.\"\n",
    "car = Car(\"Toyota Camry\", 180, 30)\n",
    "print(car.seating_capacity(5)) # Output: The Toyota Camry has a seating capacity of 5 people.\n"
   ]
  },
  {
   "cell_type": "markdown",
   "id": "53597913-9cfc-462b-81e1-53c717b27d5f",
   "metadata": {},
   "source": [
    "---------------"
   ]
  },
  {
   "cell_type": "markdown",
   "id": "33a4e68e-8340-42a1-b7d2-c950cb8079c8",
   "metadata": {},
   "source": [
    "Q3. What is multiple inheritance? Write a python code to demonstrate multiple inheritance."
   ]
  },
  {
   "cell_type": "markdown",
   "id": "25932cf8-778d-45bb-8cb3-edb1fcaad9a0",
   "metadata": {},
   "source": [
    "Multiple inheritance is a feature in object-oriented programming where a subclass can inherit attributes and methods from multiple parent classes. In Python, multiple inheritance is achieved by including multiple parent classes in the definition of a subclass."
   ]
  },
  {
   "cell_type": "code",
   "execution_count": 3,
   "id": "c050585e-20dc-4cc2-8454-24dd02c9df55",
   "metadata": {
    "tags": []
   },
   "outputs": [
    {
     "name": "stdout",
     "output_type": "stream",
     "text": [
      "Method A\n",
      "Method B\n",
      "Method C\n"
     ]
    }
   ],
   "source": [
    "class A:\n",
    "    def method_a(self):\n",
    "        print(\"Method A\")\n",
    "\n",
    "class B:\n",
    "    def method_b(self):\n",
    "        print(\"Method B\")\n",
    "\n",
    "class C(A, B):\n",
    "    def method_c(self):\n",
    "        print(\"Method C\")\n",
    "\n",
    "# Creating an instance of class C and calling its methods\n",
    "c = C()\n",
    "c.method_a() # Output: Method A\n",
    "c.method_b() # Output: Method B\n",
    "c.method_c() # Output: Method C\n"
   ]
  },
  {
   "cell_type": "markdown",
   "id": "4bd15911-63c9-426b-9f2f-8511c93d50bb",
   "metadata": {},
   "source": [
    "-----------------"
   ]
  },
  {
   "cell_type": "markdown",
   "id": "01b68532-d7b6-4668-bc37-f31ad32f8ed0",
   "metadata": {},
   "source": [
    "Q4. What are getter and setter in python? Create a class and create a getter and a setter method in this\n",
    "class."
   ]
  },
  {
   "cell_type": "markdown",
   "id": "c22df195-ae0d-4769-9bae-832e239948b0",
   "metadata": {},
   "source": [
    "In Python, getters and setters are methods that allow us to access and modify the values of instance variables in a controlled way. Getters return the value of an instance variable, while setters set the value of an instance variable."
   ]
  },
  {
   "cell_type": "code",
   "execution_count": 4,
   "id": "49cccae5-cdc8-484f-934f-eecffca53a6f",
   "metadata": {
    "tags": []
   },
   "outputs": [
    {
     "name": "stdout",
     "output_type": "stream",
     "text": [
      "Alice\n",
      "Bob\n"
     ]
    }
   ],
   "source": [
    "class Person:\n",
    "    def __init__(self, name):\n",
    "        self._name = name\n",
    "\n",
    "    def get_name(self):\n",
    "        return self._name\n",
    "\n",
    "    def set_name(self, name):\n",
    "        self._name = name\n",
    "\n",
    "# Creating an instance of class Person and using its getter and setter methods\n",
    "person = Person(\"Alice\")\n",
    "print(person.get_name()) # Output: Alice\n",
    "person.set_name(\"Bob\")\n",
    "print(person.get_name()) # Output: Bob\n"
   ]
  },
  {
   "cell_type": "markdown",
   "id": "30e9a1f5-d251-45db-b323-fe0b1f7ab0be",
   "metadata": {},
   "source": [
    "----------"
   ]
  },
  {
   "cell_type": "markdown",
   "id": "9ef438f9-8bea-41a2-9153-ec568059758a",
   "metadata": {},
   "source": [
    "Q5.What is method overriding in python? Write a python code to demonstrate method overriding."
   ]
  },
  {
   "cell_type": "markdown",
   "id": "04ee2e88-5816-4f00-a32f-effaa3f4f18e",
   "metadata": {},
   "source": [
    "Method overriding is a feature in object-oriented programming where a subclass provides its own implementation of a method that is already defined in its parent class. In Python, method overriding is achieved by defining a method with the same name as a method in the parent class.\n",
    "n this example, we define two classes Animal and Dog. The Animal class defines a method make_sound that prints a generic message. The Dog class inherits from Animal and overrides the make_sound method with its own implementation that prints a message specific to dogs.\n",
    "\n",
    "When we create an instance of Animal and call its make_sound method, we get the generic message defined in the Animal class. When we create an instance of Dog and call its make_sound method, we get the message specific to dogs defined in the Dog class.\n",
    "\n",
    "Note that when a subclass overrides a method, it can call the parent class's implementation of the method using super().method_name(). This allows the subclass to reuse some of the functionality of the parent class's implementation while still providing its own implementation for some parts."
   ]
  },
  {
   "cell_type": "code",
   "execution_count": 5,
   "id": "e4dd85d8-15bd-48fb-a64d-4d73ecbcc0af",
   "metadata": {
    "tags": []
   },
   "outputs": [
    {
     "name": "stdout",
     "output_type": "stream",
     "text": [
      "The animal makes a sound\n",
      "The dog barks\n"
     ]
    }
   ],
   "source": [
    "class Animal:\n",
    "    def make_sound(self):\n",
    "        print(\"The animal makes a sound\")\n",
    "\n",
    "class Dog(Animal):\n",
    "    def make_sound(self):\n",
    "        print(\"The dog barks\")\n",
    "\n",
    "# Creating instances of classes Animal and Dog and calling their make_sound methods\n",
    "animal = Animal()\n",
    "animal.make_sound() # Output: The animal makes a sound\n",
    "\n",
    "dog = Dog()\n",
    "dog.make_sound() # Output: The dog barks\n"
   ]
  },
  {
   "cell_type": "code",
   "execution_count": null,
   "id": "336e8506-dff2-4c94-b713-37dc8012b278",
   "metadata": {},
   "outputs": [],
   "source": []
  }
 ],
 "metadata": {
  "kernelspec": {
   "display_name": "Python 3 (ipykernel)",
   "language": "python",
   "name": "python3"
  },
  "language_info": {
   "codemirror_mode": {
    "name": "ipython",
    "version": 3
   },
   "file_extension": ".py",
   "mimetype": "text/x-python",
   "name": "python",
   "nbconvert_exporter": "python",
   "pygments_lexer": "ipython3",
   "version": "3.11.2"
  }
 },
 "nbformat": 4,
 "nbformat_minor": 5
}
