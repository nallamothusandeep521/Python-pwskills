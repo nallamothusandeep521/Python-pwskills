{
  "cells": [
    {
      "cell_type": "markdown",
      "id": "42bba639-c63d-4b2a-8bf7-981793032ee5",
      "metadata": {
        "id": "42bba639-c63d-4b2a-8bf7-981793032ee5"
      },
      "source": [
        "## 23 Feb Assignment Solution"
      ]
    },
    {
      "cell_type": "code",
      "execution_count": null,
      "id": "43898366-9b84-4bc5-b035-99d4718d18d8",
      "metadata": {
        "id": "43898366-9b84-4bc5-b035-99d4718d18d8"
      },
      "outputs": [],
      "source": [
        "# Q1. Create a Pandas Series that contains the following data: 4, 8, 15, 16, 23, and 42.\n",
        "# Then, print the series."
      ]
    },
    {
      "cell_type": "code",
      "execution_count": null,
      "id": "60a3e33d-2a7b-46d2-b3d5-d32488cd9f7c",
      "metadata": {
        "id": "60a3e33d-2a7b-46d2-b3d5-d32488cd9f7c",
        "outputId": "941c9766-cdbb-4486-adc1-71d38fc9ac7d"
      },
      "outputs": [
        {
          "data": {
            "text/plain": [
              "0     4\n",
              "1     8\n",
              "2    15\n",
              "3    16\n",
              "4    23\n",
              "5    42\n",
              "dtype: int64"
            ]
          },
          "execution_count": 2,
          "metadata": {},
          "output_type": "execute_result"
        }
      ],
      "source": [
        "import pandas as pd\n",
        "\n",
        "sr1 = pd.Series([4, 8, 15, 16, 23,42])\n",
        "sr1"
      ]
    },
    {
      "cell_type": "code",
      "execution_count": null,
      "id": "46e67713-9356-49fe-914a-895b9d1fcaf0",
      "metadata": {
        "id": "46e67713-9356-49fe-914a-895b9d1fcaf0"
      },
      "outputs": [],
      "source": []
    },
    {
      "cell_type": "code",
      "execution_count": null,
      "id": "67c4d466-53d2-48e3-96f1-3075603146d2",
      "metadata": {
        "id": "67c4d466-53d2-48e3-96f1-3075603146d2"
      },
      "outputs": [],
      "source": [
        "# Q2. Create a variable of list type containing 10 elements in it,\n",
        "# and apply pandas.Series function on the variable print it."
      ]
    },
    {
      "cell_type": "code",
      "execution_count": null,
      "id": "84b3606f-e095-44d8-8aca-f4d93770c73a",
      "metadata": {
        "id": "84b3606f-e095-44d8-8aca-f4d93770c73a",
        "outputId": "1c650908-4a6d-48ff-d22e-82e5083f7d76"
      },
      "outputs": [
        {
          "data": {
            "text/plain": [
              "0    a\n",
              "1    m\n",
              "2    r\n",
              "3    i\n",
              "4    t\n",
              "5    1\n",
              "6    2\n",
              "7    3\n",
              "8    4\n",
              "9    5\n",
              "dtype: object"
            ]
          },
          "execution_count": 4,
          "metadata": {},
          "output_type": "execute_result"
        }
      ],
      "source": [
        "nlsit = ['a','m','r','i','t', 1,2,3,4,5]\n",
        "sr2 = pd.Series(nlsit)\n",
        "sr2"
      ]
    },
    {
      "cell_type": "code",
      "execution_count": null,
      "id": "4568846b-179d-404e-ab7a-cb2239e6eb30",
      "metadata": {
        "id": "4568846b-179d-404e-ab7a-cb2239e6eb30"
      },
      "outputs": [],
      "source": []
    },
    {
      "cell_type": "code",
      "execution_count": null,
      "id": "673b6e67-a7a9-494b-bd31-770b547c0c11",
      "metadata": {
        "id": "673b6e67-a7a9-494b-bd31-770b547c0c11"
      },
      "outputs": [],
      "source": [
        "# Q3. Create a Pandas DataFrame that contains the following data: Then, print the DataFrame."
      ]
    },
    {
      "cell_type": "code",
      "execution_count": null,
      "id": "93cc1b47-e1c6-42dd-93ce-1d582300b11f",
      "metadata": {
        "id": "93cc1b47-e1c6-42dd-93ce-1d582300b11f",
        "outputId": "17d33682-9adb-4806-f493-b702d187d9da"
      },
      "outputs": [
        {
          "data": {
            "text/html": [
              "<div>\n",
              "<style scoped>\n",
              "    .dataframe tbody tr th:only-of-type {\n",
              "        vertical-align: middle;\n",
              "    }\n",
              "\n",
              "    .dataframe tbody tr th {\n",
              "        vertical-align: top;\n",
              "    }\n",
              "\n",
              "    .dataframe thead th {\n",
              "        text-align: right;\n",
              "    }\n",
              "</style>\n",
              "<table border=\"1\" class=\"dataframe\">\n",
              "  <thead>\n",
              "    <tr style=\"text-align: right;\">\n",
              "      <th></th>\n",
              "      <th>Name</th>\n",
              "      <th>Age</th>\n",
              "      <th>Gender</th>\n",
              "    </tr>\n",
              "  </thead>\n",
              "  <tbody>\n",
              "    <tr>\n",
              "      <th>0</th>\n",
              "      <td>Alice</td>\n",
              "      <td>25</td>\n",
              "      <td>Female</td>\n",
              "    </tr>\n",
              "    <tr>\n",
              "      <th>1</th>\n",
              "      <td>Bob</td>\n",
              "      <td>30</td>\n",
              "      <td>Male</td>\n",
              "    </tr>\n",
              "    <tr>\n",
              "      <th>2</th>\n",
              "      <td>Claire</td>\n",
              "      <td>27</td>\n",
              "      <td>Female</td>\n",
              "    </tr>\n",
              "  </tbody>\n",
              "</table>\n",
              "</div>"
            ],
            "text/plain": [
              "     Name  Age  Gender\n",
              "0   Alice   25  Female\n",
              "1     Bob   30    Male\n",
              "2  Claire   27  Female"
            ]
          },
          "execution_count": 6,
          "metadata": {},
          "output_type": "execute_result"
        }
      ],
      "source": [
        "df3 = pd.DataFrame([['Alice',25,'Female'],['Bob',30,'Male'],['Claire',27,'Female']], columns=['Name', 'Age', 'Gender'])\n",
        "df3"
      ]
    },
    {
      "cell_type": "markdown",
      "id": "dbc03945-0878-40ee-b852-0b40de3581d9",
      "metadata": {
        "id": "dbc03945-0878-40ee-b852-0b40de3581d9"
      },
      "source": [
        "### Q4. What is ‘DataFrame’ in pandas and how is it different from pandas.series? Explain with an example.\n",
        "\n",
        "* Pandas DataFrame is a widely used data structure which works with a `two-dimensional array` with labeled axes (rows and columns).\n",
        "* DataFrame is defined as a standard way to store data that has two different indexes, i.e., row index and column index.\n",
        "\n",
        "Series is defined as a `one-dimensional array` that is capable of storing various data types.\n",
        "The row labels of series are called the index. We can easily convert the list, tuple, and dictionary into series using \"series' method."
      ]
    },
    {
      "cell_type": "code",
      "execution_count": null,
      "id": "4ae65144-5302-4298-99af-1dbad5fd30ae",
      "metadata": {
        "id": "4ae65144-5302-4298-99af-1dbad5fd30ae",
        "outputId": "7053c52a-930d-4415-d47c-c39882c6a0d4"
      },
      "outputs": [
        {
          "data": {
            "text/html": [
              "<div>\n",
              "<style scoped>\n",
              "    .dataframe tbody tr th:only-of-type {\n",
              "        vertical-align: middle;\n",
              "    }\n",
              "\n",
              "    .dataframe tbody tr th {\n",
              "        vertical-align: top;\n",
              "    }\n",
              "\n",
              "    .dataframe thead th {\n",
              "        text-align: right;\n",
              "    }\n",
              "</style>\n",
              "<table border=\"1\" class=\"dataframe\">\n",
              "  <thead>\n",
              "    <tr style=\"text-align: right;\">\n",
              "      <th></th>\n",
              "      <th>0</th>\n",
              "      <th>1</th>\n",
              "      <th>2</th>\n",
              "    </tr>\n",
              "  </thead>\n",
              "  <tbody>\n",
              "    <tr>\n",
              "      <th>0</th>\n",
              "      <td>2</td>\n",
              "      <td>4</td>\n",
              "      <td>6</td>\n",
              "    </tr>\n",
              "    <tr>\n",
              "      <th>1</th>\n",
              "      <td>10</td>\n",
              "      <td>20</td>\n",
              "      <td>30</td>\n",
              "    </tr>\n",
              "    <tr>\n",
              "      <th>2</th>\n",
              "      <td>A</td>\n",
              "      <td>B</td>\n",
              "      <td>C</td>\n",
              "    </tr>\n",
              "  </tbody>\n",
              "</table>\n",
              "</div>"
            ],
            "text/plain": [
              "    0   1   2\n",
              "0   2   4   6\n",
              "1  10  20  30\n",
              "2   A   B   C"
            ]
          },
          "execution_count": 7,
          "metadata": {},
          "output_type": "execute_result"
        }
      ],
      "source": [
        "import pandas as pd\n",
        "\n",
        "# Series\n",
        "pd.Series([1, 2, 3, 4, 5])\n",
        "\n",
        "# Dataframe\n",
        "pd.DataFrame([[2,4,6],[10,20,30],['A','B','C']])"
      ]
    },
    {
      "cell_type": "code",
      "execution_count": null,
      "id": "dc15b725-bc1a-4e26-86da-9d5a2139f8c7",
      "metadata": {
        "id": "dc15b725-bc1a-4e26-86da-9d5a2139f8c7"
      },
      "outputs": [],
      "source": []
    },
    {
      "cell_type": "code",
      "execution_count": null,
      "id": "56cec089-46f0-449c-b379-440eab1e86a0",
      "metadata": {
        "id": "56cec089-46f0-449c-b379-440eab1e86a0"
      },
      "outputs": [],
      "source": [
        "# Q5. What are some common functions you can use to manipulate data in a Pandas DataFrame?\n",
        "# Can you give an example of when you might use one of these functions?\n"
      ]
    },
    {
      "cell_type": "code",
      "execution_count": null,
      "id": "eedc7eba-e3f2-4f87-a3d3-eda686e3b141",
      "metadata": {
        "id": "eedc7eba-e3f2-4f87-a3d3-eda686e3b141",
        "outputId": "ca151230-62e0-4f5e-8f31-fdfa4eff93bd"
      },
      "outputs": [
        {
          "data": {
            "text/html": [
              "<div>\n",
              "<style scoped>\n",
              "    .dataframe tbody tr th:only-of-type {\n",
              "        vertical-align: middle;\n",
              "    }\n",
              "\n",
              "    .dataframe tbody tr th {\n",
              "        vertical-align: top;\n",
              "    }\n",
              "\n",
              "    .dataframe thead th {\n",
              "        text-align: right;\n",
              "    }\n",
              "</style>\n",
              "<table border=\"1\" class=\"dataframe\">\n",
              "  <thead>\n",
              "    <tr style=\"text-align: right;\">\n",
              "      <th></th>\n",
              "      <th>0</th>\n",
              "      <th>1</th>\n",
              "      <th>2</th>\n",
              "    </tr>\n",
              "  </thead>\n",
              "  <tbody>\n",
              "    <tr>\n",
              "      <th>0</th>\n",
              "      <td>2</td>\n",
              "      <td>4</td>\n",
              "      <td>6</td>\n",
              "    </tr>\n",
              "    <tr>\n",
              "      <th>1</th>\n",
              "      <td>10</td>\n",
              "      <td>20</td>\n",
              "      <td>30</td>\n",
              "    </tr>\n",
              "    <tr>\n",
              "      <th>2</th>\n",
              "      <td>A</td>\n",
              "      <td>B</td>\n",
              "      <td>C</td>\n",
              "    </tr>\n",
              "  </tbody>\n",
              "</table>\n",
              "</div>"
            ],
            "text/plain": [
              "    0   1   2\n",
              "0   2   4   6\n",
              "1  10  20  30\n",
              "2   A   B   C"
            ]
          },
          "execution_count": 9,
          "metadata": {},
          "output_type": "execute_result"
        }
      ],
      "source": [
        "df1 = pd.DataFrame([[2,4,6],[10,20,30],['A','B','C']])\n",
        "df1"
      ]
    },
    {
      "cell_type": "code",
      "execution_count": null,
      "id": "ad5e8bb3-5d46-4813-8bd6-279f205862c8",
      "metadata": {
        "id": "ad5e8bb3-5d46-4813-8bd6-279f205862c8",
        "outputId": "27f827c9-0f48-4dc3-ed9e-c151b6b62656"
      },
      "outputs": [
        {
          "data": {
            "text/html": [
              "<div>\n",
              "<style scoped>\n",
              "    .dataframe tbody tr th:only-of-type {\n",
              "        vertical-align: middle;\n",
              "    }\n",
              "\n",
              "    .dataframe tbody tr th {\n",
              "        vertical-align: top;\n",
              "    }\n",
              "\n",
              "    .dataframe thead th {\n",
              "        text-align: right;\n",
              "    }\n",
              "</style>\n",
              "<table border=\"1\" class=\"dataframe\">\n",
              "  <thead>\n",
              "    <tr style=\"text-align: right;\">\n",
              "      <th></th>\n",
              "      <th>price</th>\n",
              "      <th>age</th>\n",
              "      <th>value</th>\n",
              "    </tr>\n",
              "  </thead>\n",
              "  <tbody>\n",
              "    <tr>\n",
              "      <th>one</th>\n",
              "      <td>2</td>\n",
              "      <td>4</td>\n",
              "      <td>6</td>\n",
              "    </tr>\n",
              "    <tr>\n",
              "      <th>two</th>\n",
              "      <td>10</td>\n",
              "      <td>20</td>\n",
              "      <td>30</td>\n",
              "    </tr>\n",
              "    <tr>\n",
              "      <th>three</th>\n",
              "      <td>A</td>\n",
              "      <td>B</td>\n",
              "      <td>C</td>\n",
              "    </tr>\n",
              "  </tbody>\n",
              "</table>\n",
              "</div>"
            ],
            "text/plain": [
              "      price age value\n",
              "one       2   4     6\n",
              "two      10  20    30\n",
              "three     A   B     C"
            ]
          },
          "execution_count": 10,
          "metadata": {},
          "output_type": "execute_result"
        }
      ],
      "source": [
        "## Rename - column and index\n",
        "df1.index=['one','two', 'three']\n",
        "df1.columns=['price','age','value']\n",
        "df1"
      ]
    },
    {
      "cell_type": "code",
      "execution_count": null,
      "id": "70c33c65-39c3-4238-bc80-9be77a68cbaa",
      "metadata": {
        "id": "70c33c65-39c3-4238-bc80-9be77a68cbaa",
        "outputId": "382a3a8e-d3e1-41e3-931d-9b9a7d0379a1"
      },
      "outputs": [
        {
          "data": {
            "text/html": [
              "<div>\n",
              "<style scoped>\n",
              "    .dataframe tbody tr th:only-of-type {\n",
              "        vertical-align: middle;\n",
              "    }\n",
              "\n",
              "    .dataframe tbody tr th {\n",
              "        vertical-align: top;\n",
              "    }\n",
              "\n",
              "    .dataframe thead th {\n",
              "        text-align: right;\n",
              "    }\n",
              "</style>\n",
              "<table border=\"1\" class=\"dataframe\">\n",
              "  <thead>\n",
              "    <tr style=\"text-align: right;\">\n",
              "      <th></th>\n",
              "      <th>price</th>\n",
              "      <th>age</th>\n",
              "      <th>value</th>\n",
              "    </tr>\n",
              "  </thead>\n",
              "  <tbody>\n",
              "    <tr>\n",
              "      <th>one</th>\n",
              "      <td>2</td>\n",
              "      <td>4</td>\n",
              "      <td>6</td>\n",
              "    </tr>\n",
              "    <tr>\n",
              "      <th>two</th>\n",
              "      <td>10</td>\n",
              "      <td>20</td>\n",
              "      <td>30</td>\n",
              "    </tr>\n",
              "  </tbody>\n",
              "</table>\n",
              "</div>"
            ],
            "text/plain": [
              "    price age value\n",
              "one     2   4     6\n",
              "two    10  20    30"
            ]
          },
          "execution_count": 11,
          "metadata": {},
          "output_type": "execute_result"
        }
      ],
      "source": [
        "# Print first 2 dataset\n",
        "df1.head(2)"
      ]
    },
    {
      "cell_type": "code",
      "execution_count": null,
      "id": "a6279920-224f-498a-8ad3-212edd2f9ecf",
      "metadata": {
        "id": "a6279920-224f-498a-8ad3-212edd2f9ecf",
        "outputId": "47c5fe6e-df3a-4f76-f01d-688a439fe1b8"
      },
      "outputs": [
        {
          "data": {
            "text/html": [
              "<div>\n",
              "<style scoped>\n",
              "    .dataframe tbody tr th:only-of-type {\n",
              "        vertical-align: middle;\n",
              "    }\n",
              "\n",
              "    .dataframe tbody tr th {\n",
              "        vertical-align: top;\n",
              "    }\n",
              "\n",
              "    .dataframe thead th {\n",
              "        text-align: right;\n",
              "    }\n",
              "</style>\n",
              "<table border=\"1\" class=\"dataframe\">\n",
              "  <thead>\n",
              "    <tr style=\"text-align: right;\">\n",
              "      <th></th>\n",
              "      <th>price</th>\n",
              "      <th>age</th>\n",
              "      <th>value</th>\n",
              "    </tr>\n",
              "  </thead>\n",
              "  <tbody>\n",
              "    <tr>\n",
              "      <th>two</th>\n",
              "      <td>10</td>\n",
              "      <td>20</td>\n",
              "      <td>30</td>\n",
              "    </tr>\n",
              "    <tr>\n",
              "      <th>three</th>\n",
              "      <td>A</td>\n",
              "      <td>B</td>\n",
              "      <td>C</td>\n",
              "    </tr>\n",
              "  </tbody>\n",
              "</table>\n",
              "</div>"
            ],
            "text/plain": [
              "      price age value\n",
              "two      10  20    30\n",
              "three     A   B     C"
            ]
          },
          "execution_count": 12,
          "metadata": {},
          "output_type": "execute_result"
        }
      ],
      "source": [
        "# Print last 2 dataset\n",
        "df1.tail(2)"
      ]
    },
    {
      "cell_type": "code",
      "execution_count": null,
      "id": "5059d7db-74c4-446d-80d4-29ea89c10cb9",
      "metadata": {
        "id": "5059d7db-74c4-446d-80d4-29ea89c10cb9"
      },
      "outputs": [],
      "source": []
    },
    {
      "cell_type": "markdown",
      "id": "df6ea1c8-5c8e-4166-a557-4cd80b2c1696",
      "metadata": {
        "id": "df6ea1c8-5c8e-4166-a557-4cd80b2c1696"
      },
      "source": [
        "### Q6. Which of the following is mutable in nature Series, DataFrame, Panel?\n",
        "All pandas data structures are value-mutable (the values they contain can be altered) but not always size-mutable.\n",
        "\n",
        "* Series - Size Immutable, Values Mutable\n",
        "* DataFrame - Size Mutable, Values Mutable\n",
        "* Panel - Size Mutable, Values Mutable"
      ]
    },
    {
      "cell_type": "code",
      "execution_count": null,
      "id": "19547d6e-83ec-4831-a4af-6a787d6af345",
      "metadata": {
        "id": "19547d6e-83ec-4831-a4af-6a787d6af345"
      },
      "outputs": [],
      "source": []
    },
    {
      "cell_type": "code",
      "execution_count": null,
      "id": "fc090f9d-4d60-43ae-9acb-45c1488e975d",
      "metadata": {
        "id": "fc090f9d-4d60-43ae-9acb-45c1488e975d"
      },
      "outputs": [],
      "source": [
        "# Q7. Create a DataFrame using multiple Series. Explain with an example."
      ]
    },
    {
      "cell_type": "code",
      "execution_count": null,
      "id": "412db600-a9b1-4bc9-922f-a1dd6313ee51",
      "metadata": {
        "id": "412db600-a9b1-4bc9-922f-a1dd6313ee51",
        "outputId": "d38fb2bb-5c94-4c6d-b73f-88fc8afe9b53"
      },
      "outputs": [
        {
          "name": "stdout",
          "output_type": "stream",
          "text": [
            "<class 'pandas.core.series.Series'> <class 'pandas.core.series.Series'>\n"
          ]
        }
      ],
      "source": [
        "import pandas as pd\n",
        "\n",
        "s1  = pd.Series(['4 cups', '1 cup', '2 large', '1 can'])\n",
        "s2  = pd.Series(['Flour', 'Milk', 'Eggs', 'Spam'])\n",
        "print(type(s1), type(s2))"
      ]
    },
    {
      "cell_type": "code",
      "execution_count": null,
      "id": "d33ca3b1-0d40-49f5-b5e9-2b9aa14ef047",
      "metadata": {
        "id": "d33ca3b1-0d40-49f5-b5e9-2b9aa14ef047",
        "outputId": "bf60ce3c-5df4-4b07-d3a2-d58b8c0a0533"
      },
      "outputs": [
        {
          "data": {
            "text/html": [
              "<div>\n",
              "<style scoped>\n",
              "    .dataframe tbody tr th:only-of-type {\n",
              "        vertical-align: middle;\n",
              "    }\n",
              "\n",
              "    .dataframe tbody tr th {\n",
              "        vertical-align: top;\n",
              "    }\n",
              "\n",
              "    .dataframe thead th {\n",
              "        text-align: right;\n",
              "    }\n",
              "</style>\n",
              "<table border=\"1\" class=\"dataframe\">\n",
              "  <thead>\n",
              "    <tr style=\"text-align: right;\">\n",
              "      <th></th>\n",
              "      <th>0</th>\n",
              "      <th>1</th>\n",
              "      <th>2</th>\n",
              "      <th>3</th>\n",
              "    </tr>\n",
              "  </thead>\n",
              "  <tbody>\n",
              "    <tr>\n",
              "      <th>0</th>\n",
              "      <td>Flour</td>\n",
              "      <td>Milk</td>\n",
              "      <td>Eggs</td>\n",
              "      <td>Spam</td>\n",
              "    </tr>\n",
              "    <tr>\n",
              "      <th>1</th>\n",
              "      <td>4 cups</td>\n",
              "      <td>1 cup</td>\n",
              "      <td>2 large</td>\n",
              "      <td>1 can</td>\n",
              "    </tr>\n",
              "  </tbody>\n",
              "</table>\n",
              "</div>"
            ],
            "text/plain": [
              "        0      1        2      3\n",
              "0   Flour   Milk     Eggs   Spam\n",
              "1  4 cups  1 cup  2 large  1 can"
            ]
          },
          "execution_count": 15,
          "metadata": {},
          "output_type": "execute_result"
        }
      ],
      "source": [
        "pd.DataFrame([s2,s1])"
      ]
    },
    {
      "cell_type": "code",
      "execution_count": null,
      "id": "f5bc7b50-742e-4442-96bf-2308efe0da50",
      "metadata": {
        "id": "f5bc7b50-742e-4442-96bf-2308efe0da50"
      },
      "outputs": [],
      "source": []
    }
  ],
  "metadata": {
    "kernelspec": {
      "display_name": "Python 3 (ipykernel)",
      "language": "python",
      "name": "python3"
    },
    "language_info": {
      "codemirror_mode": {
        "name": "ipython",
        "version": 3
      },
      "file_extension": ".py",
      "mimetype": "text/x-python",
      "name": "python",
      "nbconvert_exporter": "python",
      "pygments_lexer": "ipython3",
      "version": "3.10.8"
    },
    "colab": {
      "provenance": []
    }
  },
  "nbformat": 4,
  "nbformat_minor": 5
}