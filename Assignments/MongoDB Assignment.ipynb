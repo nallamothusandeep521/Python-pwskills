{
 "cells": [
  {
   "cell_type": "markdown",
   "id": "d15981de-7b63-4e5a-9406-53c7574af86e",
   "metadata": {},
   "source": [
    "Q1.What is MongoDB? Explain non-relational databases in short. In which scenarios it is preferred to use\n",
    "MongoDB over SQL databases?"
   ]
  },
  {
   "cell_type": "markdown",
   "id": "95bdef22-c331-4e93-b258-b9c9331a9d91",
   "metadata": {},
   "source": [
    "Ans:- MongoDB is a popular document-oriented NoSQL database that allows for flexible and scalable storage of data in JSON-like documents. MongoDB uses a dynamic schema, which means that documents in a collection can have different fields and structures, allowing for easier evolution of data models over time.\n",
    "\n",
    "Non-relational databases, or NoSQL databases, are databases that do not use the traditional tabular relations used by relational databases like SQL. Instead, NoSQL databases use different data models to store and manage data, including document-oriented, key-value, graph, and column-family databases. NoSQL databases are often preferred for their ability to handle large volumes of data, their ability to scale horizontally, and their ability to provide high availability and fault tolerance.\n",
    "\n",
    "MongoDB is preferred over SQL databases in scenarios where the data model is not well-defined, and the structure of the data may evolve over time. Additionally, MongoDB is well-suited for applications that require high scalability and performance, as it can distribute data across many nodes in a cluster. MongoDB is also a good choice for applications that handle large volumes of unstructured or semi-structured data, such as social media, mobile, and IoT applications.\n",
    "\n",
    "\n",
    "\n",
    "\n",
    "\n"
   ]
  },
  {
   "cell_type": "markdown",
   "id": "d2b50f3b-c82f-4f0f-9821-c5a48ea0c926",
   "metadata": {},
   "source": [
    "-----------"
   ]
  },
  {
   "cell_type": "markdown",
   "id": "55616b17-d40a-4829-90a9-5b211f7ad8f7",
   "metadata": {},
   "source": [
    "Q2. State and Explain the features of MongoDB."
   ]
  },
  {
   "cell_type": "markdown",
   "id": "399b6a9d-3250-4e1f-a54c-31cb6ab46419",
   "metadata": {},
   "source": [
    "Ans:-MongoDB is a document-oriented NoSQL database that has a number of features that make it popular among developers and organizations. Some of the key features of MongoDB are:\n",
    "\n",
    "1.Flexible data model: MongoDB has a dynamic schema, which means that documents in a collection can have different structures and fields. This allows for greater flexibility in the data model and makes it easier to evolve the schema as the application requirements change.\n",
    "\n",
    "2.Scalability: MongoDB is designed to scale horizontally across many nodes, allowing it to handle large volumes of data and high traffic loads. This makes it a good choice for applications that require high scalability.\n",
    "\n",
    "3.High availability: MongoDB supports replication and automatic failover, ensuring that data is always available even in the event of a node failure.\n",
    "\n",
    "4.Indexing: MongoDB supports indexing of fields in documents, which makes it possible to query data quickly and efficiently.\n",
    "\n",
    "5.Aggregation framework: MongoDB includes a powerful aggregation framework that allows for complex queries and data analysis.\n",
    "\n",
    "6.Ad hoc queries: MongoDB supports ad hoc queries, which means that developers can easily query the database without having to define a schema or structure beforehand.\n",
    "\n",
    "7.Support for geospatial data: MongoDB includes support for geospatial data, making it a good choice for applications that need to work with location-based data.\n",
    "\n",
    "8.Document validation: MongoDB includes a feature for document validation, which allows developers to enforce rules on the structure and content of documents in a collection.\n",
    "\n",
    "Overall, MongoDB's features make it a popular choice for developers and organizations that require a flexible and scalable database that can handle large volumes of data and high traffic loads."
   ]
  },
  {
   "cell_type": "markdown",
   "id": "900dcd5c-1860-4727-91f7-4a4e725329ba",
   "metadata": {},
   "source": [
    "-----------"
   ]
  },
  {
   "cell_type": "markdown",
   "id": "9f5e0b43-aa98-471f-a623-72599728b743",
   "metadata": {},
   "source": [
    "Q3. Write a code to connect MongoDB to Python. Also, create a database and a collection in MongoDB."
   ]
  },
  {
   "cell_type": "markdown",
   "id": "db81ddba-3908-4e9b-8f65-840fed31a354",
   "metadata": {},
   "source": [
    "Ans:-To connect MongoDB to Python, you can use the PyMongo driver, which is the official Python driver for MongoDB. Here's an example code snippet that shows how to connect to MongoDB and create a database and a collection:"
   ]
  },
  {
   "cell_type": "code",
   "execution_count": null,
   "id": "614a1740-14f6-4075-9469-fe50c70f4fc6",
   "metadata": {},
   "outputs": [],
   "source": [
    "import pymongo\n",
    "client = pymongo.MongoClient('mongodb://localhost:27017/')\n",
    "mydb = client['mydatabase']\n",
    "\n",
    "mycol = mydb['customers']\n",
    "\n",
    "\n",
    "mydict = { \"name\": \"John\", \"address\": \"Highway 37\" }\n",
    "x = mycol.insert_one(mydict)\n",
    "\n",
    "\n",
    "print(x.inserted_id)\n"
   ]
  },
  {
   "cell_type": "markdown",
   "id": "634476db-b5c8-49c4-b429-fb3908f6dfa3",
   "metadata": {},
   "source": [
    "In the above code, we first import the PyMongo library and then connect to the MongoDB server running on the local machine on port 27017 using the pymongo.MongoClient() method. We then create a new database called mydatabase using the client['mydatabase'] syntax.\n",
    "\n",
    "Next, we create a new collection called customers in the mydatabase database using the mydb['customers'] syntax. We then insert a document into the customers collection using the mycol.insert_one() method and print the ID of the inserted document using the x.inserted_id syntax.\n",
    "\n",
    "Note that you may need to install the PyMongo library using pip before running this code. You can do this by running the command pip install pymongo in the terminal or command prompt."
   ]
  },
  {
   "cell_type": "markdown",
   "id": "54fa8913-10ea-45fb-9edc-b78f688a3af3",
   "metadata": {},
   "source": [
    "---------------------------------------------------"
   ]
  },
  {
   "cell_type": "markdown",
   "id": "f31c607c-b59a-4a0e-a10d-503138fd5d71",
   "metadata": {},
   "source": [
    "Q4. Using the database and the collection created in question number 3, write a code to insert one record,\n",
    "and insert many records. Use the find() and find_one() methods to print the inserted record."
   ]
  },
  {
   "cell_type": "markdown",
   "id": "fd18fa20-6f0d-4463-bb82-4d449b00ab72",
   "metadata": {},
   "source": [
    "Ans:-Sure, here's an example code snippet that inserts one record and multiple records into the customers collection and uses the find() and find_one() methods to print the inserted records:"
   ]
  },
  {
   "cell_type": "code",
   "execution_count": null,
   "id": "b93c211c-ff7b-441b-90e4-318e5a33419d",
   "metadata": {},
   "outputs": [],
   "source": [
    "import pymongo\n",
    "client = pymongo.MongoClient('mongodb://localhost:27017/')\n",
    "mydb = client['mydatabase']\n",
    "mycol = mydb['customers']\n",
    "mydict1 = { \"name\": \"Alice\", \"address\": \"123 Main St\", \"age\": 25 }\n",
    "x = mycol.insert_one(mydict1)\n",
    "mylist = [\n",
    "  { \"name\": \"Bob\", \"address\": \"456 High St\", \"age\": 30 },\n",
    "  { \"name\": \"Charlie\", \"address\": \"789 Elm St\", \"age\": 35 },\n",
    "  { \"name\": \"David\", \"address\": \"321 Pine St\", \"age\": 40 }\n",
    "]\n",
    "y = mycol.insert_many(mylist)\n",
    "print(\"One record inserted: \")\n",
    "print(mycol.find_one({ \"name\": \"Alice\" }))\n",
    "print(\"Many records inserted: \")\n",
    "for record in mycol.find():\n",
    "  print(record)"
   ]
  },
  {
   "cell_type": "markdown",
   "id": "416a6208-08cc-4450-9f55-cd42eb95c9a4",
   "metadata": {},
   "source": [
    "In the above code, we first connect to the MongoDB server and select the mydatabase database and the customers collection using the pymongo.MongoClient() method and the mydb['customers'] syntax, respectively.\n",
    "\n",
    "We then insert one record into the customers collection using the mycol.insert_one() method and insert multiple records using the mycol.insert_many() method. We print the inserted records using the mycol.find_one() method to print the first record that matches the query { \"name\": \"Alice\" } and the mycol.find() method to print all records in the collection.\n",
    "\n",
    "Note that the find() method returns a cursor, which we iterate over using a for loop to print each record in the collection. Also, the find_one() method returns a single document, whereas the find() method returns a cursor to all documents that match the query."
   ]
  },
  {
   "cell_type": "markdown",
   "id": "60a814e0-d864-46dd-9fb6-65b2e146d077",
   "metadata": {},
   "source": [
    "------------------------------------------"
   ]
  },
  {
   "cell_type": "markdown",
   "id": "80b821b7-99e7-4f07-9b4d-9eead5749e7f",
   "metadata": {},
   "source": [
    "Q5. Explain how you can use the find() method to query the MongoDB database. Write a simple code to\n",
    "demonstrate this."
   ]
  },
  {
   "cell_type": "markdown",
   "id": "320afd5b-7c78-4e36-a9ec-94542887d31e",
   "metadata": {},
   "source": [
    "Ans:- The find() method is used to query a MongoDB database and retrieve documents from a collection that match a specified filter criteria. The find() method returns a cursor object that can be iterated over to retrieve the matching documents.\n",
    "\n",
    "Here's an example code snippet that demonstrates how to use the find() method to query a MongoDB database:"
   ]
  },
  {
   "cell_type": "code",
   "execution_count": null,
   "id": "70200038-3a8b-4205-9763-ed9d01769a57",
   "metadata": {},
   "outputs": [],
   "source": [
    "import pymongo\n",
    "client = pymongo.MongoClient('mongodb://localhost:27017/')\n",
    "mydb = client['mydatabase']\n",
    "mycol = mydb['customers']\n",
    "for document in mycol.find():\n",
    "    print(document)\n",
    "query = { \"name\": \"Alice\" }\n",
    "results = mycol.find(query)\n",
    "for document in results:\n",
    "    print(document)"
   ]
  },
  {
   "cell_type": "markdown",
   "id": "e70a0f33-d0ff-481f-ac60-91520bfd6d8e",
   "metadata": {},
   "source": [
    "In the above code, we first connect to the MongoDB server and select the mydatabase database and the customers collection using the pymongo.MongoClient() method and the mydb['customers'] syntax, respectively.\n",
    "\n",
    "We then use the find() method without any arguments to retrieve all documents in the customers collection and print them using a for loop.\n",
    "\n",
    "Next, we create a query object that matches documents with the name \"Alice\". We pass this query object as an argument to the find() method to retrieve documents that match the query criteria. We then print the matching documents using another for loop.\n",
    "\n",
    "Note that the find() method can also accept additional arguments such as a projection document to specify which fields to return, a sort parameter to sort the results, and a limit parameter to limit the number of results returned."
   ]
  },
  {
   "cell_type": "markdown",
   "id": "4c739b52-66f4-4195-b2d5-8bc1d350670a",
   "metadata": {},
   "source": [
    "----------------------------------------"
   ]
  },
  {
   "cell_type": "markdown",
   "id": "0d93b321-b3c2-4816-b649-7a217db7904a",
   "metadata": {},
   "source": [
    "Q6. Explain the sort() method. Give an example to demonstrate sorting in MongoDB."
   ]
  },
  {
   "cell_type": "markdown",
   "id": "443e7709-b809-4283-a5de-4ea05dfd7989",
   "metadata": {},
   "source": [
    "Ans:-The sort() method in MongoDB is used to sort the results of a query in ascending or descending order based on one or more fields in the documents.\n",
    "\n",
    "The sort() method takes one or more parameters that specify the field or fields to sort on and the sort order. The field name is specified as a string, and the sort order is specified as 1 for ascending order and -1 for descending order.\n",
    "\n",
    "Here's an example code snippet that demonstrates sorting in MongoDB:"
   ]
  },
  {
   "cell_type": "code",
   "execution_count": null,
   "id": "bb6b9417-cc89-4113-99f1-cf85a687e808",
   "metadata": {},
   "outputs": [],
   "source": [
    "import pymongo\n",
    "client = pymongo.MongoClient('mongodb://localhost:27017/')\n",
    "mydb = client['mydatabase']\n",
    "mycol = mydb['customers']\n",
    "results = mycol.find().sort(\"age\", 1)\n",
    "for document in results:\n",
    "    print(document)\n",
    "results = mycol.find().sort(\"name\", -1)\n",
    "for document in results:\n",
    "    print(document)\n"
   ]
  },
  {
   "cell_type": "markdown",
   "id": "eab70fdf-126d-419b-abbd-a4998a7bd386",
   "metadata": {},
   "source": [
    "In the above code, we first connect to the MongoDB server and select the mydatabase database and the customers collection using the pymongo.MongoClient() method and the mydb['customers'] syntax, respectively.\n",
    "\n",
    "We then use the find() method to retrieve all documents in the customers collection and sort them in ascending order based on the \"age\" field using the sort() method. We print the sorted documents using a for loop.\n",
    "\n",
    "Next, we use the find() method again to retrieve all documents in the customers collection and sort them in descending order based on the \"name\" field using the sort() method. We print the sorted documents using another for loop.\n",
    "\n",
    "Note that the sort() method can also be used in combination with the limit() method to limit the number of sorted results returned."
   ]
  },
  {
   "cell_type": "markdown",
   "id": "7597b270-9054-4b9b-b85e-4ff2d58a4706",
   "metadata": {},
   "source": [
    "---------------"
   ]
  },
  {
   "cell_type": "markdown",
   "id": "a95d511d-3c2d-473d-aeb8-88afd951bfdc",
   "metadata": {},
   "source": [
    "Q7. Explain why delete_one(), delete_many(), and drop() is used."
   ]
  },
  {
   "cell_type": "code",
   "execution_count": null,
   "id": "16dabb36-08c1-45f3-9b8c-ece917f1c50f",
   "metadata": {},
   "outputs": [],
   "source": []
  }
 ],
 "metadata": {
  "kernelspec": {
   "display_name": "Python 3",
   "language": "python",
   "name": "python3"
  },
  "language_info": {
   "codemirror_mode": {
    "name": "ipython",
    "version": 3
   },
   "file_extension": ".py",
   "mimetype": "text/x-python",
   "name": "python",
   "nbconvert_exporter": "python",
   "pygments_lexer": "ipython3",
   "version": "3.11.1"
  }
 },
 "nbformat": 4,
 "nbformat_minor": 5
}
