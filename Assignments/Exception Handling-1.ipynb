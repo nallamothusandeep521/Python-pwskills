{
 "cells": [
  {
   "cell_type": "markdown",
   "id": "3fbe88f2-25fd-4065-af7e-5d1a58138844",
   "metadata": {},
   "source": [
    "Q1. What is Exception Handling and difference between Exception Handling and Syntax Error?"
   ]
  },
  {
   "cell_type": "markdown",
   "id": "6ce9d793-4125-4fef-831f-1aa75cc2f1ed",
   "metadata": {},
   "source": [
    "In Python, an exception is an error that occurs during the execution of a program. When an exception occurs, the normal flow of the program is disrupted, and Python raises an exception object. An exception object contains information about the error, such as its type and message, and can be handled using exception handling mechanisms.\n",
    "\n",
    "The difference between exceptions and syntax errors is that syntax errors occur when the Python interpreter is unable to understand the code due to a mistake in its syntax, such as a missing colon or parentheses. Syntax errors prevent the program from running at all, whereas exceptions occur during the execution of a program and can be handled using exception handling.\n",
    "\n",
    "Exceptions can be broadly categorized into two types: built-in exceptions and user-defined exceptions. Built-in exceptions are the ones that are provided by Python itself, such as TypeError, ValueError, and ZeroDivisionError. User-defined exceptions are exceptions that are defined by the user and can be used to handle specific errors in a program.\n",
    "\n",
    "Some common built-in exceptions in Python include:\n",
    "\n",
    "TypeError: raised when an operation or function is applied to an object of inappropriate type\n",
    "ValueError: raised when a built-in operation or function receives an argument that has the right type but an inappropriate value\n",
    "ZeroDivisionError: raised when the second argument of a division or modulo operation is zero\n",
    "IndexError: raised when an index is out of range\n",
    "In summary, exceptions are errors that occur during the execution of a program, and they can be handled using exception handling mechanisms. They are different from syntax errors, which occur due to mistakes in the syntax of the program and prevent the program from running at all. Python provides built-in exceptions for common error scenarios, and users can also define their own exceptions to handle specific errors."
   ]
  },
  {
   "cell_type": "markdown",
   "id": "8e072603-4f43-4bb3-b0f6-92aec6e42f34",
   "metadata": {},
   "source": [
    "----------------"
   ]
  },
  {
   "cell_type": "markdown",
   "id": "b76c08a1-7b1d-4f25-9385-29228edce3a5",
   "metadata": {},
   "source": [
    "Q2. What happens when Exception is not Handled With Example "
   ]
  },
  {
   "cell_type": "markdown",
   "id": "37ad45b6-436b-4fbb-9dba-1521dc712325",
   "metadata": {},
   "source": [
    "When an exception is not handled in Python, it results in an error message being displayed, and the program terminates prematurely. The error message provides information about the type of exception that occurred, the location in the code where it occurred, and a traceback of the call stack. This error message can be difficult to understand for non-technical users and can cause confusion and frustration.\n",
    "n this example, we are trying to divide the numerator by the denominator, which is zero. This results in a ZeroDivisionError, which is an exception that is raised when the second argument of a division or modulo operation is zero.\n",
    "As you can see, the error message provides information about the type of exception that occurred (ZeroDivisionError), the location in the code where it occurred (line 3), and a traceback of the call stack.\n",
    "\n",
    "In summary, when an exception is not handled in Python, it results in an error message being displayed, and the program terminates prematurely. This error message provides information about the type of exception that occurred, the location in the code where it occurred, and a traceback of the call stack, which can be difficult to understand for non-technical users. It is important to handle exceptions in your code to prevent these kinds of errors and provide a better user experience."
   ]
  },
  {
   "cell_type": "code",
   "execution_count": 1,
   "id": "66f41090-b593-4ee8-b6ea-58feea5f7c9e",
   "metadata": {
    "tags": []
   },
   "outputs": [
    {
     "ename": "ZeroDivisionError",
     "evalue": "division by zero",
     "output_type": "error",
     "traceback": [
      "\u001b[1;31m---------------------------------------------------------------------------\u001b[0m",
      "\u001b[1;31mZeroDivisionError\u001b[0m                         Traceback (most recent call last)",
      "Cell \u001b[1;32mIn[1], line 3\u001b[0m\n\u001b[0;32m      1\u001b[0m numerator \u001b[38;5;241m=\u001b[39m \u001b[38;5;241m10\u001b[39m\n\u001b[0;32m      2\u001b[0m denominator \u001b[38;5;241m=\u001b[39m \u001b[38;5;241m0\u001b[39m\n\u001b[1;32m----> 3\u001b[0m result \u001b[38;5;241m=\u001b[39m \u001b[43mnumerator\u001b[49m\u001b[43m \u001b[49m\u001b[38;5;241;43m/\u001b[39;49m\u001b[43m \u001b[49m\u001b[43mdenominator\u001b[49m\n\u001b[0;32m      4\u001b[0m \u001b[38;5;28mprint\u001b[39m(result)\n",
      "\u001b[1;31mZeroDivisionError\u001b[0m: division by zero"
     ]
    }
   ],
   "source": [
    "numerator = 10\n",
    "denominator = 0\n",
    "result = numerator / denominator\n",
    "print(result)"
   ]
  },
  {
   "cell_type": "markdown",
   "id": "ecd1cc5f-9e85-415f-b427-410588d15bc5",
   "metadata": {},
   "source": [
    "-------------------"
   ]
  },
  {
   "cell_type": "markdown",
   "id": "f05f7701-c557-46bb-a5b7-025eb948d5ea",
   "metadata": {},
   "source": [
    "Q3. Which python Statements are Used to Handle Exceptions"
   ]
  },
  {
   "cell_type": "markdown",
   "id": "c72cc5b8-3644-4330-a188-2fc555d1f47e",
   "metadata": {},
   "source": [
    "Python provides two statements for handling exceptions: try and except.\n",
    "\n",
    "The try statement is used to enclose a block of code that might raise an exception. If an exception is raised inside the try block, Python stops executing the block and searches for an except block that matches the type of the exception. If a match is found, the code inside the except block is executed, and the program continues executing from the point after the try and except blocks.\n",
    "\n",
    "Here's an example of using the try and except statements to handle a ZeroDivisionError:"
   ]
  },
  {
   "cell_type": "code",
   "execution_count": null,
   "id": "5744c936-e545-4160-8136-63d0a6ab01c3",
   "metadata": {},
   "outputs": [],
   "source": [
    "try:\n",
    "    numerator = 10\n",
    "    denominator = 0\n",
    "    result = numerator / denominator\n",
    "    print(result)\n",
    "except ZeroDivisionError:\n",
    "    print(\"Error: Division by zero\")\n"
   ]
  },
  {
   "cell_type": "markdown",
   "id": "d2db81a5-2e59-4f9c-80cd-5426f82eac4a",
   "metadata": {},
   "source": [
    "n this example, we are trying to divide the numerator by the denominator, which is zero. This will result in a ZeroDivisionError. We enclose this code in a try block and include an except block that matches the type of the exception that might be raised (ZeroDivisionError). Inside the except block, we print an error message that explains what went wrong.\n",
    "\n",
    "When we run this code, instead of terminating with an error message, we get the following output:"
   ]
  },
  {
   "cell_type": "markdown",
   "id": "21d5654e-2925-442c-894b-0701735aeb1a",
   "metadata": {},
   "source": [
    "As you can see, the except block is executed when the ZeroDivisionError is raised, and we get a clear error message that explains what went wrong.\n",
    "\n",
    "In summary, the try and except statements are used in Python to handle exceptions. The try block encloses the code that might raise an exception, and the except block handles the exception if it is raised. By using these statements, we can prevent our program from terminating prematurely and provide a better user experience by handling errors gracefully."
   ]
  },
  {
   "cell_type": "markdown",
   "id": "43d63ef8-3bf1-412d-85af-9429f7c15f42",
   "metadata": {},
   "source": [
    "-------"
   ]
  },
  {
   "cell_type": "markdown",
   "id": "5f7d8c95-3fe1-4963-95ad-c353a08b2f70",
   "metadata": {},
   "source": [
    "Q4. Explain\n",
    "1. try and else\n",
    "2. finally\n",
    "3. raise"
   ]
  },
  {
   "cell_type": "markdown",
   "id": "39404554-df6c-41ec-b305-b160fc67a25b",
   "metadata": {},
   "source": [
    "1. try and else:\n",
    "The else block in a try and except statement is optional and is executed only if no exceptions were raised in the try block. This can be useful when you want to perform some operation only if no exceptions occurred."
   ]
  },
  {
   "cell_type": "code",
   "execution_count": null,
   "id": "76aa6b0c-cf51-4570-9352-1a20177c50ea",
   "metadata": {},
   "outputs": [],
   "source": [
    "try:\n",
    "    num = int(input(\"Enter a number: \"))\n",
    "except ValueError:\n",
    "    print(\"Error: Invalid input\")\n",
    "else:\n",
    "    square = num ** 2\n",
    "    print(\"The square of\", num, \"is\", square)\n"
   ]
  },
  {
   "cell_type": "markdown",
   "id": "206d1abd-fee0-4e6a-a80d-a650a688a986",
   "metadata": {},
   "source": [
    "2.finally The finally block in a try and except statement is optional and is executed no matter what, whether an exception is raised or not. This block is useful when you want to perform some cleanup operation, such as closing a file or a database connection, that must be done regardless of whether an exception occurred."
   ]
  },
  {
   "cell_type": "code",
   "execution_count": null,
   "id": "732c63b5-7ae4-47ea-9975-7a748880efca",
   "metadata": {},
   "outputs": [],
   "source": [
    "try:\n",
    "    file = open(\"example.txt\", \"r\")\n",
    "    content = file.read()\n",
    "    print(content)\n",
    "except FileNotFoundError:\n",
    "    print(\"Error: File not found\")\n",
    "finally:\n",
    "    file.close()\n"
   ]
  },
  {
   "cell_type": "code",
   "execution_count": null,
   "id": "08366bef-988d-4cc9-8d54-83a775c9009b",
   "metadata": {},
   "outputs": [],
   "source": [
    "try:\n",
    "    numerator = 10\n",
    "    denominator = 0\n",
    "    result = numerator / denominator\n",
    "except ZeroDivisionError:\n",
    "    print(\"Error: Division by zero\")\n",
    "    # some cleanup code here\n",
    "    raise\n",
    "finally:\n",
    "    print(\"Cleanup code\")\n"
   ]
  },
  {
   "cell_type": "markdown",
   "id": "dae4a746-260f-4d5e-a65c-af70b80d6c1f",
   "metadata": {},
   "source": [
    "-----------------"
   ]
  },
  {
   "cell_type": "markdown",
   "id": "62ffab66-7f52-4d69-97f2-b5c3d3e2f85b",
   "metadata": {},
   "source": [
    "Q5. What are Custom Exceptions in Python Explain ?"
   ]
  },
  {
   "cell_type": "markdown",
   "id": "ae5881a3-2914-4ac6-9483-75de4e57c7d2",
   "metadata": {},
   "source": [
    "Custom Exceptions in Python are user-defined exceptions that can be created by inheriting from the base Exception class. They are useful when you need to raise an exception that does not already exist in Python.\n",
    "In this example, we have defined a custom exception called InvalidAgeError by inheriting from the base Exception class. We can now use this exception in our code to indicate that an error occurred when the age of a person is not valid.In this example, we have defined a function called process_person that takes a person's name and age as input parameters. We check if the age is within a valid range, and if it is not, we raise the InvalidAgeError exception with a custom error message. The rest of the code in the function is not executed.\n",
    "\n",
    "Custom exceptions are useful because they provide a way to handle errors that are specific to your application. They can help to make your code more readable and maintainable by providing a clear indication of what went wrong and where. By creating custom exceptions, you can add a layer of abstraction to your code that makes it easier to handle errors in a consistent and predictable way.\n",
    "\n",
    "In summary, custom exceptions in Python are user-defined exceptions that can be created by inheriting from the base Exception class. They are useful when you need to raise an exception that does not already exist in Python and provide a way to handle errors that are specific to your application.\n",
    "\n",
    "\n",
    "\n",
    "\n"
   ]
  },
  {
   "cell_type": "code",
   "execution_count": null,
   "id": "3064b551-a8af-4c2e-b81f-2ca7ed9d40c3",
   "metadata": {},
   "outputs": [],
   "source": [
    "class InvalidAgeError(Exception):\n",
    "    pass\n",
    "def process_person(name, age):\n",
    "    if age < 0 or age > 120:\n",
    "        raise InvalidAgeError(\"Invalid age\")\n",
    "    # rest of the code here\n"
   ]
  },
  {
   "cell_type": "markdown",
   "id": "76d620cd-e316-459b-8d40-4fe499c810bc",
   "metadata": {},
   "source": [
    "--------------"
   ]
  },
  {
   "cell_type": "markdown",
   "id": "ae730216-949c-46e5-a0f7-7e97e9eefa99",
   "metadata": {},
   "source": [
    "Q6. Create a custom Exception class. Use this class to handle Exception?"
   ]
  },
  {
   "cell_type": "code",
   "execution_count": null,
   "id": "a86eb49c-268c-42a3-92e8-f3d41b05005c",
   "metadata": {},
   "outputs": [],
   "source": [
    "class InvalidEmailError(Exception):\n",
    "    pass\n",
    "\n",
    "def send_email(to, subject, body):\n",
    "    if not \"@\" in to:\n",
    "        raise InvalidEmailError(\"Invalid email address\")\n",
    "    # rest of the code here\n",
    "\n",
    "try:\n",
    "    send_email(\"example.com\", \"Subject\", \"Body\")\n",
    "except InvalidEmailError as e:\n",
    "    print(f\"Error occurred: {str(e)}\")\n"
   ]
  }
 ],
 "metadata": {
  "kernelspec": {
   "display_name": "Python 3 (ipykernel)",
   "language": "python",
   "name": "python3"
  },
  "language_info": {
   "codemirror_mode": {
    "name": "ipython",
    "version": 3
   },
   "file_extension": ".py",
   "mimetype": "text/x-python",
   "name": "python",
   "nbconvert_exporter": "python",
   "pygments_lexer": "ipython3",
   "version": "3.11.2"
  }
 },
 "nbformat": 4,
 "nbformat_minor": 5
}
