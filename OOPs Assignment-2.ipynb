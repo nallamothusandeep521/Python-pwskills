{
 "cells": [
  {
   "cell_type": "markdown",
   "id": "49a9724d-a9f9-4f5c-af2a-ebe394ade8ba",
   "metadata": {},
   "source": [
    "Q1. Which function is used to open a file? What are the different modes of opening a file? Explain each mode\n",
    "of file opening."
   ]
  },
  {
   "cell_type": "markdown",
   "id": "7ba5cc86-1bc1-4404-8a13-cb4778694c48",
   "metadata": {},
   "source": [
    "The open() function is used to open a file in Python. It takes two arguments: the file name and the mode in which the file is to be opened.\n",
    "\n",
    "There are different modes in which a file can be opened, depending on the type of operation that needs to be performed. The different modes are as follows:\n",
    "\n",
    "r (read mode): This mode is used to read data from an existing file. The file pointer is placed at the beginning of the file, and if the file doesn't exist, an error is thrown.\n",
    "\n",
    "w (write mode): This mode is used to write data to a file. If the file already exists, it is truncated, and if it doesn't exist, a new file is created.\n",
    "\n",
    "a (append mode): This mode is used to add data to an existing file. The file pointer is placed at the end of the file, and if the file doesn't exist, a new file is created.\n",
    "\n",
    "x (exclusive creation mode): This mode is used to create a new file and open it for writing. If the file already exists, an error is thrown.\n",
    "\n",
    "b (binary mode): This mode is used to open a file in binary mode, which is used to read and write binary data, such as images or sound files.\n",
    "\n",
    "t (text mode): This mode is used to open a file in text mode, which is used to read and write text data, such as strings or characters.\n",
    "\n",
    "+ (read and write mode): This mode is used to open a file for both reading and writing.\n",
    "\n",
    "So, when opening a file, we specify the mode in which we want to open the file using the mode parameter of the open() function, like this:"
   ]
  },
  {
   "cell_type": "code",
   "execution_count": null,
   "id": "3874b5bc-cc11-42a5-b540-1de9b5b9a7ea",
   "metadata": {
    "tags": []
   },
   "outputs": [],
   "source": [
    "# opening a file in read mode\n",
    "file = open(\"example.txt\", \"r\")\n",
    "\n",
    "# opening a file in write mode\n",
    "file = open(\"example.txt\", \"w\")\n",
    "\n",
    "# opening a file in append mode\n",
    "file = open(\"example.txt\", \"a\")\n",
    "\n",
    "# opening a file in exclusive creation mode\n",
    "file = open(\"example.txt\", \"x\")\n",
    "\n",
    "# opening a file in binary mode\n",
    "file = open(\"example.png\", \"rb\")\n",
    "\n",
    "# opening a file in text mode\n",
    "file = open(\"example.txt\", \"rt\")\n",
    "\n",
    "# opening a file for both reading and writing\n",
    "file = open(\"example.txt\", \"r+\")\n"
   ]
  },
  {
   "cell_type": "markdown",
   "id": "c6ba3ce1-56ff-4237-aba7-38ee29fc00da",
   "metadata": {},
   "source": [
    "---------"
   ]
  },
  {
   "cell_type": "markdown",
   "id": "3699367e-0393-4a6a-999a-80a11faa67a2",
   "metadata": {},
   "source": [
    "Q2. Why close() function is used? Why is it important to close a file?"
   ]
  },
  {
   "cell_type": "markdown",
   "id": "8db5d4e7-1fdc-405a-bc3b-75359b4872da",
   "metadata": {},
   "source": [
    "The close() function is used to close a file in Python. It is important to close a file after opening it and performing operations on it because it releases the resources that were being used by the file. When a file is opened, the operating system allocates certain resources for it, such as memory and file descriptors, and if the file is not closed properly, those resources remain allocated, which can lead to various issues such as:\n",
    "\n",
    "Data loss or corruption: If the file is not closed properly, any data that has not been written to the file may be lost or corrupted.\n",
    "\n",
    "Resource leakage: If a large number of files are opened but not closed properly, it can lead to a shortage of system resources, causing other programs to fail or run slowly.\n",
    "\n",
    "Security risks: If a file is not closed properly, it may be accessible to unauthorized users or processes, leading to a security breach.\n",
    "\n",
    "Therefore, it is good programming practice to always close a file after you are done working with it, even though Python automatically closes the file when the program terminates."
   ]
  },
  {
   "cell_type": "markdown",
   "id": "6d63fbf1-7796-4cde-94f6-1c366c23404c",
   "metadata": {},
   "source": [
    "----------"
   ]
  },
  {
   "cell_type": "markdown",
   "id": "e959fd87-116c-4000-b5cb-736dfa66de55",
   "metadata": {},
   "source": [
    "Q3. Write a python program to create a text file. Write ‘I want to become a Data Scientist’ in that file. Then\n",
    "close the file. Open this file and read the content of the file."
   ]
  },
  {
   "cell_type": "code",
   "execution_count": 2,
   "id": "7d5d73d9-756d-4791-b461-0fa66d19dba9",
   "metadata": {
    "tags": []
   },
   "outputs": [
    {
     "name": "stdout",
     "output_type": "stream",
     "text": [
      "I want to become a Data Scientist\n"
     ]
    }
   ],
   "source": [
    "# Open the file in write mode\n",
    "with open(\"data_scientist.txt\", \"w\") as file:\n",
    "    # Write the text to the file\n",
    "    file.write(\"I want to become a Data Scientist\")\n",
    "\n",
    "# Open the file in read mode\n",
    "with open(\"data_scientist.txt\", \"r\") as file:\n",
    "    # Read the contents of the file\n",
    "    content = file.read()\n",
    "    # Print the content to the console\n",
    "    print(content)\n"
   ]
  },
  {
   "cell_type": "markdown",
   "id": "c38a7d71-8d82-47ff-a45c-e43b99f1a95d",
   "metadata": {},
   "source": [
    "-----------"
   ]
  },
  {
   "cell_type": "markdown",
   "id": "94044e88-f142-4769-a7b5-a4c6ebfb5d32",
   "metadata": {},
   "source": [
    "Q4. Explain the following with python code: read(), readline() and readlines()."
   ]
  },
  {
   "cell_type": "markdown",
   "id": "05ffa91a-3541-4c78-80f4-8ea4a699c612",
   "metadata": {},
   "source": [
    "read() reads the entire content of the file and returns it as a string. You can pass an optional argument that specifies how many bytes you want to read.\n",
    "\n",
    "readline() reads one line at a time from the file and returns it as a string. Each time you call readline(), it moves the cursor to the beginning of the next line.\n",
    "\n",
    "readlines() reads all the lines from the file and returns them as a list of strings, where each string represents a single line."
   ]
  },
  {
   "cell_type": "code",
   "execution_count": null,
   "id": "864805dd-ce42-4200-a9f2-6f2495df6b07",
   "metadata": {
    "tags": []
   },
   "outputs": [],
   "source": [
    "# Open file in read mode\n",
    "file = open(\"example.txt\", \"r\")\n",
    "\n",
    "# Use read() to read the entire content of the file\n",
    "content = file.read()\n",
    "print(content)\n",
    "\n",
    "# Use readline() to read one line at a time\n",
    "file.seek(0) # move cursor to the beginning of the file\n",
    "line1 = file.readline()\n",
    "line2 = file.readline()\n",
    "print(line1)\n",
    "print(line2)\n",
    "\n",
    "# Use readlines() to read all lines at once\n",
    "file.seek(0) # move cursor to the beginning of the file\n",
    "lines = file.readlines()\n",
    "print(lines)\n",
    "\n",
    "# Close the file\n",
    "file.close()\n"
   ]
  },
  {
   "cell_type": "markdown",
   "id": "dc3d7fc9-543d-4c26-957b-faf198cfb9fc",
   "metadata": {},
   "source": [
    "----------------"
   ]
  },
  {
   "cell_type": "markdown",
   "id": "5f633b77-1c1b-45ed-bfa1-1f398c814604",
   "metadata": {},
   "source": [
    "Q5. Explain why with statement is used with open(). What is the advantage of using with statement and\n",
    "open() together?"
   ]
  },
  {
   "cell_type": "markdown",
   "id": "860989e4-6438-4ac3-a93f-bdc96474300f",
   "metadata": {},
   "source": [
    "The with statement is used with the open() function in Python to ensure that a file is properly closed after its usage, even if an exception occurs during the file processing.\n",
    "\n",
    "The with statement is a context manager that automatically takes care of resource management, i.e., it automatically opens the file, provides the file object, and then closes the file once the block of code inside the with statement has been executed. This is particularly important when dealing with file input/output (I/O) because leaving a file open after reading or writing can result in unexpected behavior, memory leaks, or even file corruption."
   ]
  },
  {
   "cell_type": "code",
   "execution_count": null,
   "id": "9ee96884-427f-4d8b-a62c-574af04170bb",
   "metadata": {},
   "outputs": [],
   "source": [
    "with open(filename, mode) as file:\n",
    "    # code to read/write file\n",
    "file = open('filename.txt', 'r')\n",
    "try:\n",
    "    # code to read file\n",
    "finally:\n",
    "    file.close()\n",
    "with open('filename.txt', 'r') as file:\n",
    "    # code to read file\n"
   ]
  },
  {
   "cell_type": "markdown",
   "id": "1e4dae35-c019-46bf-9257-d4b08b9ea34f",
   "metadata": {},
   "source": [
    "---------------"
   ]
  },
  {
   "cell_type": "markdown",
   "id": "a5240335-ca54-4c24-9af5-f32405ea247b",
   "metadata": {},
   "source": [
    "Q6. Explain the write() and writelines() functions. Give a suitable example."
   ]
  },
  {
   "cell_type": "markdown",
   "id": "68027434-155d-471e-9f9b-7b9fd81c35b3",
   "metadata": {},
   "source": [
    "In Python, write() and writelines() are methods used for writing text or data to a file.\n",
    "\n",
    "The write() method writes a single string to a file. If the file already contains data, the new data is appended to the existing data. The syntax for the write() method is as "
   ]
  },
  {
   "cell_type": "code",
   "execution_count": null,
   "id": "9355c2ae-33d8-40bf-b04d-ebeb913c4d32",
   "metadata": {},
   "outputs": [],
   "source": [
    "file.write(string)\n",
    "with open(\"example.txt\", \"w\") as file:\n",
    "    file.write(\"Hello, World!\")\n"
   ]
  },
  {
   "cell_type": "markdown",
   "id": "3707a1f4-d21d-4240-9a9e-2f09f809f3a1",
   "metadata": {},
   "source": [
    "The writelines() method, on the other hand, is used to write a list of strings to a file. Each string in the list is written to a separate line in the file. The syntax for the writelines() method is as follows:"
   ]
  },
  {
   "cell_type": "code",
   "execution_count": null,
   "id": "3af9be58-8b2e-460a-b337-5f8259ebbc35",
   "metadata": {},
   "outputs": [],
   "source": [
    "file.writelines(list_of_strings)\n",
    "with open(\"example.txt\", \"w\") as file:\n",
    "    lines = [\"Hello\", \"World\", \"How are you?\"]\n",
    "    file.writelines(lines)\n"
   ]
  },
  {
   "cell_type": "markdown",
   "id": "48e328a0-993c-459b-a503-b41613e38c05",
   "metadata": {},
   "source": [
    " this code, the open() function is used to open the \"example.txt\" file in write mode, and the with statement ensures that the file is properly closed after the write operation is complete. The writelines() method is then used to write the list of strings [\"Hello\", \"World\", \"How are you?\"] to the file, with each string written on a separate line."
   ]
  },
  {
   "cell_type": "code",
   "execution_count": null,
   "id": "33e0afa9-8883-43ba-8461-70c96d4922e6",
   "metadata": {},
   "outputs": [],
   "source": []
  }
 ],
 "metadata": {
  "kernelspec": {
   "display_name": "Python 3 (ipykernel)",
   "language": "python",
   "name": "python3"
  },
  "language_info": {
   "codemirror_mode": {
    "name": "ipython",
    "version": 3
   },
   "file_extension": ".py",
   "mimetype": "text/x-python",
   "name": "python",
   "nbconvert_exporter": "python",
   "pygments_lexer": "ipython3",
   "version": "3.11.2"
  }
 },
 "nbformat": 4,
 "nbformat_minor": 5
}
